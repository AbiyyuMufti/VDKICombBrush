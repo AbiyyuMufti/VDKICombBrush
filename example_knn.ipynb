{
 "cells": [
  {
   "cell_type": "code",
   "execution_count": 9,
   "metadata": {
    "collapsed": true
   },
   "outputs": [],
   "source": [
    "# Calculate the Euclidean distance between two vectors\n",
    "\n",
    "def minkowski_distance(a, b, p=1):\n",
    "    # p= 1 --> Manhattan\n",
    "    # p= 2 --> Euclidean distance\n",
    "\n",
    "    # Store the number of dimensions\n",
    "    dim = len(a)\n",
    "\n",
    "    # Set initial distance to 0\n",
    "    distance = 0\n",
    "\n",
    "    # Calculate minkowski distance using parameter p\n",
    "    for d in range(dim):\n",
    "        distance += abs(a[d] - b[d])**p\n",
    "\n",
    "    distance = distance**(1/p)\n",
    "\n",
    "    return distance\n"
   ]
  },
  {
   "cell_type": "code",
   "execution_count": 10,
   "outputs": [
    {
     "data": {
      "text/plain": "   sepal length (cm)  sepal width (cm)  petal length (cm)  petal width (cm)  \\\n0                5.1               3.5                1.4               0.2   \n1                4.9               3.0                1.4               0.2   \n2                4.7               3.2                1.3               0.2   \n3                4.6               3.1                1.5               0.2   \n4                5.0               3.6                1.4               0.2   \n\n   target  \n0       0  \n1       0  \n2       0  \n3       0  \n4       0  ",
      "text/html": "<div>\n<style scoped>\n    .dataframe tbody tr th:only-of-type {\n        vertical-align: middle;\n    }\n\n    .dataframe tbody tr th {\n        vertical-align: top;\n    }\n\n    .dataframe thead th {\n        text-align: right;\n    }\n</style>\n<table border=\"1\" class=\"dataframe\">\n  <thead>\n    <tr style=\"text-align: right;\">\n      <th></th>\n      <th>sepal length (cm)</th>\n      <th>sepal width (cm)</th>\n      <th>petal length (cm)</th>\n      <th>petal width (cm)</th>\n      <th>target</th>\n    </tr>\n  </thead>\n  <tbody>\n    <tr>\n      <th>0</th>\n      <td>5.1</td>\n      <td>3.5</td>\n      <td>1.4</td>\n      <td>0.2</td>\n      <td>0</td>\n    </tr>\n    <tr>\n      <th>1</th>\n      <td>4.9</td>\n      <td>3.0</td>\n      <td>1.4</td>\n      <td>0.2</td>\n      <td>0</td>\n    </tr>\n    <tr>\n      <th>2</th>\n      <td>4.7</td>\n      <td>3.2</td>\n      <td>1.3</td>\n      <td>0.2</td>\n      <td>0</td>\n    </tr>\n    <tr>\n      <th>3</th>\n      <td>4.6</td>\n      <td>3.1</td>\n      <td>1.5</td>\n      <td>0.2</td>\n      <td>0</td>\n    </tr>\n    <tr>\n      <th>4</th>\n      <td>5.0</td>\n      <td>3.6</td>\n      <td>1.4</td>\n      <td>0.2</td>\n      <td>0</td>\n    </tr>\n  </tbody>\n</table>\n</div>"
     },
     "execution_count": 10,
     "metadata": {},
     "output_type": "execute_result"
    }
   ],
   "source": [
    "from sklearn import datasets\n",
    "import pandas as pd\n",
    "import numpy as np\n",
    "import matplotlib.pyplot as plt\n",
    "\n",
    "iris = datasets.load_iris()\n",
    "\n",
    "df = pd.DataFrame(data=iris.data, columns=iris.feature_names)\n",
    "df['target'] = iris.target\n",
    "df.head()"
   ],
   "metadata": {
    "collapsed": false,
    "pycharm": {
     "name": "#%%\n"
    }
   }
  },
  {
   "cell_type": "code",
   "execution_count": 11,
   "outputs": [],
   "source": [
    "X = df.drop('target', axis=1)\n",
    "y = df.target"
   ],
   "metadata": {
    "collapsed": false,
    "pycharm": {
     "name": "#%%\n"
    }
   }
  },
  {
   "cell_type": "code",
   "execution_count": 12,
   "outputs": [
    {
     "name": "stdout",
     "output_type": "stream",
     "text": [
      "2.6999999999999997\n",
      "2.0000000000000004\n",
      "2.2999999999999994\n",
      "2.1\n",
      "2.7\n",
      "2.9000000000000004\n",
      "2.4\n",
      "2.4\n",
      "2.1999999999999993\n",
      "2.1000000000000005\n",
      "3.1000000000000005\n",
      "2.0999999999999996\n",
      "2.0\n",
      "2.8\n",
      "4.1\n",
      "3.9000000000000004\n",
      "3.3\n",
      "2.5999999999999996\n",
      "3.1999999999999997\n",
      "2.7999999999999994\n",
      "2.6000000000000005\n",
      "2.5999999999999996\n",
      "3.1\n",
      "1.8999999999999995\n",
      "1.7999999999999998\n",
      "1.9\n",
      "2.0999999999999996\n",
      "2.7\n",
      "2.7\n",
      "1.9999999999999996\n",
      "1.7999999999999998\n",
      "2.6\n",
      "3.4\n",
      "3.8000000000000003\n",
      "2.0000000000000004\n",
      "2.5\n",
      "3.2\n",
      "2.7000000000000006\n",
      "2.399999999999999\n",
      "2.4999999999999996\n",
      "2.6\n",
      "2.3000000000000003\n",
      "2.5999999999999996\n",
      "2.0\n",
      "2.2999999999999994\n",
      "1.7999999999999998\n",
      "2.7999999999999994\n",
      "2.3000000000000003\n",
      "3.0\n",
      "2.4\n",
      "5.6000000000000005\n",
      "4.9\n",
      "5.7\n",
      "3.2000000000000006\n",
      "4.699999999999999\n",
      "3.6\n",
      "5.2\n",
      "1.5000000000000007\n",
      "4.699999999999999\n",
      "2.5\n",
      "2.2\n",
      "3.9000000000000004\n",
      "3.5\n",
      "4.3999999999999995\n",
      "2.6999999999999997\n",
      "4.900000000000001\n",
      "3.8999999999999995\n",
      "2.8999999999999995\n",
      "4.7\n",
      "2.8\n",
      "5.0\n",
      "3.4999999999999996\n",
      "4.9\n",
      "4.1\n",
      "4.2\n",
      "4.7\n",
      "5.1\n",
      "5.7\n",
      "4.2\n",
      "2.3000000000000007\n",
      "2.7\n",
      "2.500000000000001\n",
      "2.9\n",
      "4.7\n",
      "3.7\n",
      "4.8\n",
      "5.3\n",
      "4.4\n",
      "3.2999999999999994\n",
      "3.0000000000000004\n",
      "3.2000000000000006\n",
      "4.3999999999999995\n",
      "3.1\n",
      "1.7000000000000004\n",
      "3.1\n",
      "3.4000000000000004\n",
      "3.4000000000000004\n",
      "4.0\n",
      "1.4000000000000001\n",
      "3.1999999999999997\n",
      "7.3999999999999995\n",
      "4.8\n",
      "7.4\n",
      "5.899999999999999\n",
      "6.8\n",
      "8.6\n",
      "3.3000000000000007\n",
      "7.6\n",
      "6.5\n",
      "8.700000000000001\n",
      "6.1\n",
      "5.6000000000000005\n",
      "6.7\n",
      "4.9\n",
      "5.3999999999999995\n",
      "6.5\n",
      "6.1\n",
      "9.7\n",
      "9.0\n",
      "5.0\n",
      "7.4\n",
      "4.6\n",
      "8.5\n",
      "5.0\n",
      "7.1000000000000005\n",
      "7.5\n",
      "4.9\n",
      "5.1\n",
      "6.2\n",
      "6.9\n",
      "7.5\n",
      "9.400000000000002\n",
      "6.3\n",
      "4.999999999999999\n",
      "5.2\n",
      "8.4\n",
      "6.999999999999999\n",
      "6.1\n",
      "4.9\n",
      "6.800000000000001\n",
      "7.1000000000000005\n",
      "6.699999999999999\n",
      "4.8\n",
      "7.5\n",
      "7.5\n",
      "6.5\n",
      "5.4\n",
      "6.0\n",
      "6.6\n",
      "5.1\n"
     ]
    }
   ],
   "source": [
    "test_pt = [4.8, 2.7, 2.5, 0.7]\n",
    "distances = []\n",
    "\n",
    "#\n",
    "for i in X.index:\n",
    "    b = X.iloc[i]\n",
    "    dist = minkowski_distance(test_pt, b)\n",
    "    print(dist)\n",
    "    distances.append(dist)"
   ],
   "metadata": {
    "collapsed": false,
    "pycharm": {
     "name": "#%%\n"
    }
   }
  },
  {
   "cell_type": "code",
   "execution_count": 12,
   "outputs": [],
   "source": [],
   "metadata": {
    "collapsed": false,
    "pycharm": {
     "name": "#%%\n"
    }
   }
  }
 ],
 "metadata": {
  "kernelspec": {
   "name": "pycharm-f37e0920",
   "language": "python",
   "display_name": "PyCharm (VDK_KammBrueste)"
  },
  "language_info": {
   "codemirror_mode": {
    "name": "ipython",
    "version": 2
   },
   "file_extension": ".py",
   "mimetype": "text/x-python",
   "name": "python",
   "nbconvert_exporter": "python",
   "pygments_lexer": "ipython2",
   "version": "2.7.6"
  }
 },
 "nbformat": 4,
 "nbformat_minor": 0
}