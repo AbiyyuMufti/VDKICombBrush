{
 "cells": [
  {
   "cell_type": "code",
   "execution_count": 1,
   "metadata": {
    "collapsed": true
   },
   "outputs": [],
   "source": [
    "from imutils import paths\n",
    "\n",
    "from preprocessing import FeatureExtraction, ImageResizer\n",
    "from preprocessing import SimpleDatasetLoader\n",
    "\n",
    "\n",
    "\n",
    "args = {\n",
    "\t\"dataset\": \"resources\",\n",
    "\t\"neighbors\": 1,\n",
    "\t\"jobs\": -1\n",
    "}"
   ]
  },
  {
   "cell_type": "code",
   "execution_count": 2,
   "outputs": [
    {
     "name": "stdout",
     "output_type": "stream",
     "text": [
      "[INFO] loading images...\n"
     ]
    }
   ],
   "source": [
    "print(\"[INFO] loading images...\")\n",
    "imagePaths = list(paths.list_images(args[\"dataset\"]))\n",
    "# initialize the image preprocessor, load the dataset from disk,\n",
    "# and reshape the data matrix\n",
    "sp = ImageResizer(256, 256)\n",
    "f_ext = FeatureExtraction(\"Features.csv\")\n",
    "sdl = SimpleDatasetLoader(preprocessors=[sp, f_ext])"
   ],
   "metadata": {
    "collapsed": false,
    "pycharm": {
     "name": "#%%\n"
    }
   }
  },
  {
   "cell_type": "code",
   "execution_count": null,
   "outputs": [
    {
     "name": "stdout",
     "output_type": "stream",
     "text": [
      "[INFO] processed 10/800\n",
      "[INFO] processed 20/800\n",
      "[INFO] processed 30/800\n",
      "[INFO] processed 40/800\n",
      "[INFO] processed 50/800\n",
      "[INFO] processed 60/800\n",
      "[INFO] processed 70/800\n",
      "[INFO] processed 80/800\n",
      "[INFO] processed 90/800\n",
      "[INFO] processed 100/800\n",
      "[INFO] processed 110/800\n",
      "[INFO] processed 120/800\n",
      "[INFO] processed 130/800\n",
      "[INFO] processed 140/800\n",
      "[INFO] processed 150/800\n",
      "[INFO] processed 160/800\n",
      "[INFO] processed 170/800\n",
      "[INFO] processed 180/800\n",
      "[INFO] processed 190/800\n",
      "[INFO] processed 200/800\n",
      "[INFO] processed 210/800\n",
      "[INFO] processed 220/800\n",
      "[INFO] processed 230/800\n",
      "[INFO] processed 240/800\n",
      "[INFO] processed 250/800\n",
      "[INFO] processed 260/800\n",
      "[INFO] processed 270/800\n",
      "[INFO] processed 280/800\n",
      "[INFO] processed 290/800\n",
      "[INFO] processed 300/800\n",
      "[INFO] processed 310/800\n",
      "[INFO] processed 320/800\n",
      "[INFO] processed 330/800\n",
      "[INFO] processed 340/800\n",
      "[INFO] processed 350/800\n",
      "[INFO] processed 360/800\n",
      "[INFO] processed 370/800\n",
      "[INFO] processed 380/800\n",
      "[INFO] processed 390/800\n",
      "[INFO] processed 400/800\n",
      "[INFO] processed 410/800\n",
      "[INFO] processed 420/800\n",
      "[INFO] processed 430/800\n",
      "[INFO] processed 440/800\n",
      "[INFO] processed 450/800\n",
      "[INFO] processed 460/800\n",
      "[INFO] processed 470/800\n",
      "[INFO] processed 480/800\n",
      "[INFO] processed 490/800\n",
      "[INFO] processed 500/800\n",
      "[INFO] processed 510/800\n",
      "[INFO] processed 520/800\n",
      "[INFO] processed 530/800\n",
      "[INFO] processed 540/800\n",
      "[INFO] processed 550/800\n",
      "[INFO] processed 560/800\n",
      "[INFO] processed 570/800\n",
      "[INFO] processed 580/800\n",
      "[INFO] processed 590/800\n",
      "[INFO] processed 600/800\n",
      "[INFO] processed 610/800\n",
      "[INFO] processed 620/800\n",
      "[INFO] processed 630/800\n",
      "[INFO] processed 640/800\n",
      "[INFO] processed 650/800\n",
      "[INFO] processed 660/800\n",
      "[INFO] processed 670/800\n",
      "[INFO] processed 680/800\n"
     ]
    }
   ],
   "source": [
    "(data, labels) = sdl.load(imagePaths, verbose=10)"
   ],
   "metadata": {
    "collapsed": false,
    "pycharm": {
     "name": "#%%\n",
     "is_executing": true
    }
   }
  },
  {
   "cell_type": "code",
   "execution_count": null,
   "outputs": [],
   "source": [
    "f_ext.extract_to_table(\"w\")\n",
    "# data = data.reshape((data.shape[0], 3072))"
   ],
   "metadata": {
    "collapsed": false,
    "pycharm": {
     "name": "#%%\n"
    }
   }
  }
 ],
 "metadata": {
  "kernelspec": {
   "name": "pycharm-f37e0920",
   "language": "python",
   "display_name": "PyCharm (VDK_KammBrueste)"
  },
  "language_info": {
   "codemirror_mode": {
    "name": "ipython",
    "version": 2
   },
   "file_extension": ".py",
   "mimetype": "text/x-python",
   "name": "python",
   "nbconvert_exporter": "python",
   "pygments_lexer": "ipython2",
   "version": "2.7.6"
  }
 },
 "nbformat": 4,
 "nbformat_minor": 0
}