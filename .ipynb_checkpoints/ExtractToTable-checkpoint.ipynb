{
 "cells": [
  {
   "cell_type": "code",
   "execution_count": 13,
   "metadata": {
    "collapsed": true
   },
   "outputs": [],
   "source": [
    "from imutils import paths\n",
    "\n",
    "from preprocessing import FeatureExtraction, ImageResizer\n",
    "from preprocessing import SimpleDatasetLoader\n",
    "\n",
    "\n",
    "\n",
    "args = {\n",
    "\t\"dataset\": \"ressources2\",\n",
    "\t\"neighbors\": 1,\n",
    "\t\"jobs\": -1\n",
    "}"
   ]
  },
  {
   "cell_type": "code",
   "execution_count": 14,
   "metadata": {
    "pycharm": {
     "name": "#%%\n"
    }
   },
   "outputs": [
    {
     "name": "stdout",
     "output_type": "stream",
     "text": [
      "[INFO] loading images...\n"
     ]
    }
   ],
   "source": [
    "print(\"[INFO] loading images...\")\n",
    "imagePaths = list(paths.list_images(args[\"dataset\"]))\n",
    "# initialize the image preprocessor, load the dataset from disk,\n",
    "# and reshape the data matrix\n",
    "sp = ImageResizer(256, 256)\n",
    "f_ext = FeatureExtraction(\"Features.csv\")\n",
    "sdl = SimpleDatasetLoader(preprocessors=[sp, f_ext])"
   ]
  },
  {
   "cell_type": "code",
   "execution_count": 15,
   "metadata": {
    "pycharm": {
     "name": "#%%\n"
    }
   },
   "outputs": [
    {
     "name": "stdout",
     "output_type": "stream",
     "text": [
      "[INFO] processed 2/22\n",
      "[INFO] processed 4/22\n",
      "[INFO] processed 6/22\n",
      "[INFO] processed 8/22\n",
      "[INFO] processed 10/22\n",
      "[INFO] processed 12/22\n",
      "[INFO] processed 14/22\n",
      "[INFO] processed 16/22\n",
      "[INFO] processed 18/22\n",
      "[INFO] processed 20/22\n",
      "[INFO] processed 22/22\n"
     ]
    }
   ],
   "source": [
    "(data, labels) = sdl.load(imagePaths, verbose=2)\n"
   ]
  },
  {
   "cell_type": "code",
   "execution_count": 16,
   "metadata": {
    "pycharm": {
     "name": "#%%\n"
    }
   },
   "outputs": [
    {
     "name": "stdout",
     "output_type": "stream",
     "text": [
      "dict_keys(['contour_points', 'amount_contours', 'rect_area', 'hull_area', 'approximation_area', 'contour_perimeters', 'corners', 'harris_corners', 'ratio_wide_length', 'contour_length_area_ratio', 'contour_length_rect_area_ratio', 'contour_length_hull_area_ratio', 'contour_rect_length_ratio', 'contour_hull_length_ratio', 'extent', 'solidity', 'hull_rectangle_ratio'])\n"
     ]
    }
   ],
   "source": [
    "keys = f_ext.list_of_features[0].keys()\n",
    "print(keys)"
   ]
  },
  {
   "cell_type": "code",
   "execution_count": 23,
   "metadata": {
    "pycharm": {
     "name": "#%%\n"
    }
   },
   "outputs": [
    {
     "name": "stdout",
     "output_type": "stream",
     "text": [
      "[{'contour_points': 676, 'amount_contours': 3, 'rect_area': 20729.54524463974, 'hull_area': 14977.0, 'approximation_area': 10152.5, 'contour_perimeters': 789.4945094585419, 'corners': 53, 'harris_corners': 901, 'ratio_wide_length': 3.3993290006917114, 'contour_length_area_ratio': 0.07731046900299078, 'contour_length_rect_area_ratio': 0.038085471733283194, 'contour_length_hull_area_ratio': 0.05271379511641463, 'contour_rect_length_ratio': 1.1490379934398853, 'contour_hull_length_ratio': 1.3183012217982621, 'extent': 0.492630199046003, 'solidity': 0.6818454964278561, 'hull_rectangle_ratio': 0.7224953477391292}, {'contour_points': 1725, 'amount_contours': 3, 'rect_area': 65025.0, 'hull_area': 65025.0, 'approximation_area': 48154.5, 'contour_perimeters': 1847.192993760109, 'corners': 92, 'harris_corners': 1582, 'ratio_wide_length': 1.0, 'contour_length_area_ratio': 0.03850845854592303, 'contour_length_rect_area_ratio': 0.02840742781637999, 'contour_length_hull_area_ratio': 0.02840742781637999, 'contour_rect_length_ratio': 1.8109735232942246, 'contour_hull_length_ratio': 1.8109735232942246, 'extent': 0.7376931949250288, 'solidity': 0.7376931949250288, 'hull_rectangle_ratio': 1.0}, {'contour_points': 514, 'amount_contours': 2, 'rect_area': 18142.0, 'hull_area': 14201.0, 'approximation_area': 11280.5, 'contour_perimeters': 561.2203433513641, 'corners': 62, 'harris_corners': 305, 'ratio_wide_length': 0.48704663212435234, 'contour_length_area_ratio': 0.0497271259393376, 'contour_length_rect_area_ratio': 0.03093486624139368, 'contour_length_hull_area_ratio': 0.039519776308102536, 'contour_rect_length_ratio': 0.9777357898107389, 'contour_hull_length_ratio': 1.1343763699318063, 'extent': 0.6220923823172748, 'solidity': 0.7947327652982185, 'hull_rectangle_ratio': 0.7827692646896703}, {'contour_points': 670, 'amount_contours': 2, 'rect_area': 19416.43257466168, 'hull_area': 15594.0, 'approximation_area': 12276.5, 'contour_perimeters': 727.9898953437805, 'corners': 59, 'harris_corners': 970, 'ratio_wide_length': 0.3364468460562539, 'contour_length_area_ratio': 0.059282564767408834, 'contour_length_rect_area_ratio': 0.03749349385086335, 'contour_length_hull_area_ratio': 0.046683974307027094, 'contour_rect_length_ratio': 1.133749677171746, 'contour_hull_length_ratio': 1.2890365002218598, 'extent': 0.632453976948645, 'solidity': 0.7874823650121842, 'hull_rectangle_ratio': 0.8031341462978152}, {'contour_points': 750, 'amount_contours': 2, 'rect_area': 23913.438782884972, 'hull_area': 19207.5, 'approximation_area': 14916.5, 'contour_perimeters': 905.7442903518677, 'corners': 71, 'harris_corners': 950, 'ratio_wide_length': 3.920757839034525, 'contour_length_area_ratio': 0.060290507245681135, 'contour_length_rect_area_ratio': 0.037875953290336294, 'contour_length_hull_area_ratio': 0.047155761569796575, 'contour_rect_length_ratio': 1.1784403643702104, 'contour_hull_length_ratio': 1.3190578359025023, 'extent': 0.6282241603308042, 'solidity': 0.7821423922946765, 'hull_rectangle_ratio': 0.8032094494810571}, {'contour_points': 1656, 'amount_contours': 1, 'rect_area': 65025.0, 'hull_area': 65025.0, 'approximation_area': 51777.0, 'contour_perimeters': 1792.690467596054, 'corners': 59, 'harris_corners': 715, 'ratio_wide_length': 1.0, 'contour_length_area_ratio': 0.034637345768530295, 'contour_length_rect_area_ratio': 0.027569249790020053, 'contour_length_hull_area_ratio': 0.027569249790020053, 'contour_rect_length_ratio': 1.7575396741137785, 'contour_hull_length_ratio': 1.7575396741137785, 'extent': 0.7959400230680508, 'solidity': 0.7959400230680508, 'hull_rectangle_ratio': 1.0}, {'contour_points': 1549, 'amount_contours': 6, 'rect_area': 65025.0, 'hull_area': 65025.0, 'approximation_area': 58362.0, 'contour_perimeters': 1643.8549002408981, 'corners': 26, 'harris_corners': 20, 'ratio_wide_length': 1.0, 'contour_length_area_ratio': 0.028161943760926105, 'contour_length_rect_area_ratio': 0.025280352175946146, 'contour_length_hull_area_ratio': 0.025280352175946146, 'contour_rect_length_ratio': 1.6116224512165669, 'contour_hull_length_ratio': 1.6116224512165669, 'extent': 0.897677816224529, 'solidity': 0.897677816224529, 'hull_rectangle_ratio': 1.0}, {'contour_points': 600, 'amount_contours': 7, 'rect_area': 20169.0, 'hull_area': 14935.0, 'approximation_area': 12047.5, 'contour_perimeters': 644.735062122345, 'corners': 68, 'harris_corners': 955, 'ratio_wide_length': 0.3253012048192771, 'contour_length_area_ratio': 0.05347392072010823, 'contour_length_rect_area_ratio': 0.031966635040029, 'contour_length_hull_area_ratio': 0.04316940489603917, 'contour_rect_length_ratio': 0.9768713062459772, 'contour_hull_length_ratio': 1.126999620826848, 'extent': 0.597798601814666, 'solidity': 0.8072982926012722, 'hull_rectangle_ratio': 0.7404928355396896}, {'contour_points': 598, 'amount_contours': 12, 'rect_area': 17830.138847728376, 'hull_area': 12350.0, 'approximation_area': 9785.0, 'contour_perimeters': 652.6761870384216, 'corners': 56, 'harris_corners': 178, 'ratio_wide_length': 0.30903065117330036, 'contour_length_area_ratio': 0.06663360766089042, 'contour_length_rect_area_ratio': 0.03660522178836397, 'contour_length_hull_area_ratio': 0.05284827425412321, 'contour_rect_length_ratio': 1.0378662086811072, 'contour_hull_length_ratio': 1.2161641508152699, 'extent': 0.5493507416655882, 'solidity': 0.7931174089068825, 'hull_rectangle_ratio': 0.6926474384451266}, {'contour_points': 532, 'amount_contours': 26, 'rect_area': 17320.853779936908, 'hull_area': 13553.5, 'approximation_area': 12075.5, 'contour_perimeters': 602.4163014888763, 'corners': 84, 'harris_corners': 561, 'ratio_wide_length': 0.9090485713442433, 'contour_length_area_ratio': 0.04984001832455335, 'contour_length_rect_area_ratio': 0.03477982720382221, 'contour_length_hull_area_ratio': 0.04444728678856947, 'contour_rect_length_ratio': 1.1430326559817214, 'contour_hull_length_ratio': 1.3956316506915298, 'extent': 0.6978293422233386, 'solidity': 0.8917991662670159, 'hull_rectangle_ratio': 0.7824960693161264}, {'contour_points': 513, 'amount_contours': 2, 'rect_area': 11573.15698675043, 'hull_area': 9322.5, 'approximation_area': 7705.0, 'contour_perimeters': 587.1442233324051, 'corners': 34, 'harris_corners': 287, 'ratio_wide_length': 0.20065609566295184, 'contour_length_area_ratio': 0.0761684145206467, 'contour_length_rect_area_ratio': 0.05073328081564946, 'contour_length_hull_area_ratio': 0.06298141306864093, 'contour_rect_length_ratio': 1.018114032473888, 'contour_hull_length_ratio': 1.120893855965623, 'extent': 0.6660671767284505, 'solidity': 0.8268704746580853, 'hull_rectangle_ratio': 0.8055278270806226}, {'contour_points': 1008, 'amount_contours': 6, 'rect_area': 63503.0, 'hull_area': 63503.0, 'approximation_area': 63503.0, 'contour_perimeters': 1008.0, 'corners': 81, 'harris_corners': 468, 'ratio_wide_length': 0.9920948616600791, 'contour_length_area_ratio': 0.01587326582996079, 'contour_length_rect_area_ratio': 0.01587326582996079, 'contour_length_hull_area_ratio': 0.01587326582996079, 'contour_rect_length_ratio': 1.0, 'contour_hull_length_ratio': 1.0, 'extent': 1.0, 'solidity': 1.0, 'hull_rectangle_ratio': 1.0}, {'contour_points': 787, 'amount_contours': 3, 'rect_area': 49980.0, 'hull_area': 32649.5, 'approximation_area': 20381.5, 'contour_perimeters': 877.7127648591995, 'corners': 100, 'harris_corners': 986, 'ratio_wide_length': 1.3010204081632653, 'contour_length_area_ratio': 0.04305573887612271, 'contour_length_rect_area_ratio': 0.017561279809107634, 'contour_length_hull_area_ratio': 0.026882885338495217, 'contour_rect_length_ratio': 0.9730740186909086, 'contour_hull_length_ratio': 1.0975365220629387, 'extent': 0.40787314925970386, 'solidity': 0.624374033293006, 'hull_rectangle_ratio': 0.6532513005202081}, {'contour_points': 1283, 'amount_contours': 3, 'rect_area': 25828.249639708083, 'hull_area': 21960.5, 'approximation_area': 15067.5, 'contour_perimeters': 1633.0104397535324, 'corners': 47, 'harris_corners': 257, 'ratio_wide_length': 3.5890780165061518, 'contour_length_area_ratio': 0.10789273164107775, 'contour_length_rect_area_ratio': 0.06322574942294809, 'contour_length_hull_area_ratio': 0.07436125952294038, 'contour_rect_length_ratio': 2.09738175720284, 'contour_hull_length_ratio': 2.3099083548387935, 'extent': 0.5860056415410683, 'solidity': 0.6892147264406548, 'hull_rectangle_ratio': 0.8502511903183}, {'contour_points': 732, 'amount_contours': 2, 'rect_area': 28815.0, 'hull_area': 28182.5, 'approximation_area': 25896.5, 'contour_perimeters': 741.1126978397369, 'corners': 49, 'harris_corners': 637, 'ratio_wide_length': 0.44313725490196076, 'contour_length_area_ratio': 0.028621020230158993, 'contour_length_rect_area_ratio': 0.02571968411729089, 'contour_length_hull_area_ratio': 0.02629691112710856, 'contour_rect_length_ratio': 1.0069466003257295, 'contour_hull_length_ratio': 1.0137655400184897, 'extent': 0.8986291861877495, 'solidity': 0.9187971258759868, 'hull_rectangle_ratio': 0.9780496269304182}, {'contour_points': 628, 'amount_contours': 2, 'rect_area': 15726.164264123538, 'hull_area': 14893.0, 'approximation_area': 14562.0, 'contour_perimeters': 774.6315925121307, 'corners': 44, 'harris_corners': 672, 'ratio_wide_length': 0.15950987363331648, 'contour_length_area_ratio': 0.053279564792085475, 'contour_length_rect_area_ratio': 0.04925750357824481, 'contour_length_hull_area_ratio': 0.052013133184189264, 'contour_rect_length_ratio': 1.063832221283509, 'contour_hull_length_ratio': 1.1075342491982538, 'extent': 0.9245102464793756, 'solidity': 0.9762304438326731, 'hull_rectangle_ratio': 0.9470205035296334}, {'contour_points': 532, 'amount_contours': 2, 'rect_area': 10913.286421815108, 'hull_area': 9923.5, 'approximation_area': 7923.5, 'contour_perimeters': 563.4802289009094, 'corners': 24, 'harris_corners': 240, 'ratio_wide_length': 0.19089309804120277, 'contour_length_area_ratio': 0.07111955432297229, 'contour_length_rect_area_ratio': 0.05163249704273691, 'contour_length_hull_area_ratio': 0.05678240831369068, 'contour_rect_length_ratio': 0.9894486147052601, 'contour_hull_length_ratio': 1.0531087548182996, 'extent': 0.7259957902472277, 'solidity': 0.7984078198216356, 'hull_rectangle_ratio': 0.9093044584776429}, {'contour_points': 3113, 'amount_contours': 6, 'rect_area': 44687.987060547806, 'hull_area': 33977.5, 'approximation_area': 21576.5, 'contour_perimeters': 3356.1433469057083, 'corners': 80, 'harris_corners': 125, 'ratio_wide_length': 1.163265331543176, 'contour_length_area_ratio': 0.16211294997733164, 'contour_length_rect_area_ratio': 0.07510168990960514, 'contour_length_hull_area_ratio': 0.0987754645546526, 'contour_rect_length_ratio': 3.9577167806903684, 'contour_hull_length_ratio': 4.560112448225289, 'extent': 0.46326767799923857, 'solidity': 0.6093002722389816, 'hull_rectangle_ratio': 0.7603273773321642}, {'contour_points': 1449, 'amount_contours': 2, 'rect_area': 20433.0906874605, 'hull_area': 17446.0, 'approximation_area': 9862.0, 'contour_perimeters': 1913.333376288414, 'corners': 38, 'harris_corners': 80, 'ratio_wide_length': 4.471187155703832, 'contour_length_area_ratio': 0.18389479324219463, 'contour_length_rect_area_ratio': 0.09363896072083701, 'contour_length_hull_area_ratio': 0.10967175147818492, 'contour_rect_length_ratio': 2.5865654598442345, 'contour_hull_length_ratio': 2.8015615842612687, 'extent': 0.509198542655375, 'solidity': 0.5963831250716497, 'hull_rectangle_ratio': 0.8538111178014967}, {'contour_points': 548, 'amount_contours': 2, 'rect_area': 11925.00100812735, 'hull_area': 9167.5, 'approximation_area': 7292.0, 'contour_perimeters': 716.1706964969635, 'corners': 26, 'harris_corners': 528, 'ratio_wide_length': 8.490565722767323, 'contour_length_area_ratio': 0.09714740864039115, 'contour_length_rect_area_ratio': 0.06005623781573397, 'contour_length_hull_area_ratio': 0.07812061047144407, 'contour_rect_length_ratio': 1.0067776182663262, 'contour_hull_length_ratio': 1.0637051491550127, 'extent': 0.6181970127277722, 'solidity': 0.8041450777202073, 'hull_rectangle_ratio': 0.7687630377349229}, {'contour_points': 605, 'amount_contours': 2, 'rect_area': 21343.44028714113, 'hull_area': 18103.5, 'approximation_area': 14393.5, 'contour_perimeters': 694.8843377828598, 'corners': 35, 'harris_corners': 77, 'ratio_wide_length': 2.747171564665784, 'contour_length_area_ratio': 0.04823073661515598, 'contour_length_rect_area_ratio': 0.032557278884487506, 'contour_length_hull_area_ratio': 0.038383977561403035, 'contour_rect_length_ratio': 1.051936753730852, 'contour_hull_length_ratio': 1.1954196547720766, 'extent': 0.6750317571193125, 'solidity': 0.7958405833126191, 'hull_rectangle_ratio': 0.8481997164677754}, {'contour_points': 489, 'amount_contours': 2, 'rect_area': 12689.757066190825, 'hull_area': 11434.0, 'approximation_area': 9051.0, 'contour_perimeters': 602.9087229967117, 'corners': 32, 'harris_corners': 354, 'ratio_wide_length': 0.22345958252432344, 'contour_length_area_ratio': 0.06666026015774357, 'contour_length_rect_area_ratio': 0.0475114472130467, 'contour_length_hull_area_ratio': 0.05272946676549867, 'contour_rect_length_ratio': 1.033962486790964, 'contour_hull_length_ratio': 1.1138198674804862, 'extent': 0.7127402008425487, 'solidity': 0.7910180164421899, 'hull_rectangle_ratio': 0.9010416779737632}]\n"
     ]
    }
   ],
   "source": [
    "feat = f_ext.list_of_features\n",
    "print(feat)"
   ]
  },
  {
   "cell_type": "code",
   "execution_count": 24,
   "metadata": {
    "pycharm": {
     "name": "#%%\n"
    }
   },
   "outputs": [],
   "source": [
    "f_ext.extract_to_table(\"w\")"
   ]
  },
  {
   "cell_type": "code",
   "execution_count": 25,
   "metadata": {},
   "outputs": [],
   "source": [
    "with open(\"file.csv\", \"w\") as out:\n",
    "    pass"
   ]
  }
 ],
 "metadata": {
  "kernelspec": {
   "display_name": "PyCharm (VDKICombBrush)",
   "language": "python",
   "name": "pycharm-f94c62d2"
  },
  "language_info": {
   "codemirror_mode": {
    "name": "ipython",
    "version": 3
   },
   "file_extension": ".py",
   "mimetype": "text/x-python",
   "name": "python",
   "nbconvert_exporter": "python",
   "pygments_lexer": "ipython3",
   "version": "3.7.6"
  }
 },
 "nbformat": 4,
 "nbformat_minor": 1
}
