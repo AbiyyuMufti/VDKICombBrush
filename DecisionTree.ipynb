{
 "cells": [
  {
   "cell_type": "code",
   "execution_count": 1,
   "outputs": [],
   "source": [
    "import pandas as pd\n",
    "import random\n",
    "import numpy as np\n",
    "import pprint"
   ],
   "metadata": {
    "collapsed": false,
    "pycharm": {
     "name": "#%% LIBRARIES\n"
    }
   }
  },
  {
   "cell_type": "code",
   "execution_count": 2,
   "outputs": [],
   "source": [
    "df = pd.read_csv('800ImagesFeatures.csv')\n",
    "#df = pd.read_csv('Features2.csv')\n",
    "\n",
    "#print(df.head())"
   ],
   "metadata": {
    "collapsed": false,
    "pycharm": {
     "name": "#%% LOAD CSV DATA FOR DATA FRAME\n"
    }
   }
  },
  {
   "cell_type": "code",
   "execution_count": 3,
   "outputs": [],
   "source": [
    "def train_test_split(df, test_size):\n",
    "\n",
    "    if isinstance(test_size, float):\n",
    "        test_size = round(test_size * len(df)) #eg: test_size = 0.2 -> 20% x df\n",
    "\n",
    "    indices = df.index.tolist()\n",
    "    test_indices = random.sample(population=indices, k=test_size)\n",
    "\n",
    "    test_df = df.loc[test_indices]\n",
    "    train_df = df.drop(test_indices)\n",
    "\n",
    "    return train_df, test_df"
   ],
   "metadata": {
    "collapsed": false,
    "pycharm": {
     "name": "#%% SPLIT DATA FRAME FOR TRAINING AND TESTING\n"
    }
   }
  },
  {
   "cell_type": "code",
   "execution_count": 4,
   "outputs": [],
   "source": [
    "def check_purity(data):\n",
    "\n",
    "    label_column = data[:, -1]\n",
    "    unique_classes = np.unique(label_column)\n",
    "\n",
    "    #unique_classes = 0 and 1 (kamm, burst) -> length = 2\n",
    "    #if length only 1 -> only 1 class -> data pure -> True\n",
    "    if len(unique_classes) == 1:\n",
    "        return True\n",
    "    else:\n",
    "        return False"
   ],
   "metadata": {
    "collapsed": false,
    "pycharm": {
     "name": "#%% IF THE DATA IS ALR PURE ( ONLY 1 CLASS IN THIS DATA SET)\n"
    }
   }
  },
  {
   "cell_type": "code",
   "execution_count": 5,
   "outputs": [],
   "source": [
    "def classify_data(data):\n",
    "\n",
    "    label_column = data[:, -1]\n",
    "    unique_classes, counts_unique_classes = np.unique(label_column, return_counts=True)\n",
    "\n",
    "    index = counts_unique_classes.argmax()\n",
    "    classification = unique_classes[index]\n",
    "\n",
    "    return classification"
   ],
   "metadata": {
    "collapsed": false,
    "pycharm": {
     "name": "#%% CLASSIFYING DATA\n"
    }
   }
  },
  {
   "cell_type": "code",
   "execution_count": 6,
   "outputs": [],
   "source": [
    "def get_potential_splits(data):\n",
    "\n",
    "    potential_splits = {}\n",
    "    _, n_columns = data.shape\n",
    "    for column_index in range(n_columns - 1):        # excluding the last column which is the label\n",
    "        potential_splits[column_index] = []\n",
    "        values = data[:, column_index]\n",
    "        unique_values = np.unique(values)\n",
    "\n",
    "        for index in range(len(unique_values)):\n",
    "            if index != 0:\n",
    "                current_value = unique_values[index]\n",
    "                previous_value = unique_values[index - 1]\n",
    "                potential_split = (current_value + previous_value) / 2\n",
    "\n",
    "                potential_splits[column_index].append(potential_split)\n",
    "\n",
    "    return potential_splits"
   ],
   "metadata": {
    "collapsed": false,
    "pycharm": {
     "name": "#%% POTENTIAL SPLIT FOR NODE\n"
    }
   }
  },
  {
   "cell_type": "code",
   "execution_count": 7,
   "outputs": [],
   "source": [
    "def split_data(data, split_column, split_value):\n",
    "\n",
    "    split_column_values = data[:, split_column]\n",
    "\n",
    "    data_below = data[split_column_values <= split_value]\n",
    "    data_above = data[split_column_values >  split_value]\n",
    "\n",
    "    return data_below, data_above"
   ],
   "metadata": {
    "collapsed": false,
    "pycharm": {
     "name": "#%% SPLIT DATA TO DETERMINE QUESTION/ NODE\n"
    }
   }
  },
  {
   "cell_type": "code",
   "execution_count": 8,
   "outputs": [],
   "source": [
    "def calculate_entropy(data):\n",
    "\n",
    "    label_column = data[:, -1]\n",
    "    _, counts = np.unique(label_column, return_counts=True)\n",
    "\n",
    "    probabilities = counts / counts.sum()\n",
    "    entropy = sum(probabilities * -np.log2(probabilities))\n",
    "\n",
    "    return entropy"
   ],
   "metadata": {
    "collapsed": false,
    "pycharm": {
     "name": "#%% CALCULATE THE ENTROPY\n"
    }
   }
  },
  {
   "cell_type": "code",
   "execution_count": 9,
   "outputs": [],
   "source": [
    "def calculate_overall_entropy(data_below, data_above):\n",
    "\n",
    "    n = len(data_below) + len(data_above)\n",
    "    p_data_below = len(data_below) / n\n",
    "    p_data_above = len(data_above) / n\n",
    "\n",
    "    overall_entropy =  (p_data_below * calculate_entropy(data_below)\n",
    "                      + p_data_above * calculate_entropy(data_above))\n",
    "\n",
    "    return overall_entropy"
   ],
   "metadata": {
    "collapsed": false,
    "pycharm": {
     "name": "#%% CALCULATE OVERALL ENTROPY FOR NODE\n"
    }
   }
  },
  {
   "cell_type": "code",
   "execution_count": 10,
   "outputs": [],
   "source": [
    "def determine_best_split(data, potential_splits):\n",
    "\n",
    "    overall_entropy = 9999\n",
    "    for column_index in potential_splits:\n",
    "        for value in potential_splits[column_index]:\n",
    "            data_below, data_above = split_data(data, split_column=column_index, split_value=value)\n",
    "            current_overall_entropy = calculate_overall_entropy(data_below, data_above)\n",
    "\n",
    "            if current_overall_entropy <= overall_entropy:\n",
    "                overall_entropy = current_overall_entropy\n",
    "                best_split_column = column_index\n",
    "                best_split_value = value\n",
    "\n",
    "    return best_split_column, best_split_value\n"
   ],
   "metadata": {
    "collapsed": false,
    "pycharm": {
     "name": "#%% DETERMINE BEST SPLIT OR NODE\n"
    }
   }
  },
  {
   "cell_type": "code",
   "execution_count": 11,
   "outputs": [],
   "source": [
    "sub_tree = {\"question\": [\"yes_answer\",\n",
    "                         \"no_answer\"]}"
   ],
   "metadata": {
    "collapsed": false,
    "pycharm": {
     "name": "#%% DECISION TREE STRUCTURE\n"
    }
   }
  },
  {
   "cell_type": "code",
   "execution_count": 12,
   "outputs": [],
   "source": [
    "def decision_tree_algorithm(df, counter=0, max_depth = 10):\n",
    "\n",
    "    # data preparations\n",
    "    if counter == 0:          #at first, data still data frame and it needs to be converted to the numpy 2Darray (without header)\n",
    "        global COLUMN_HEADERS\n",
    "        COLUMN_HEADERS = df.columns\n",
    "        data = df.values\n",
    "    else:\n",
    "        data = df\n",
    "\n",
    "\n",
    "    # base cases (stop condition so recursive not go infinitiv)\n",
    "    if (check_purity(data)) or (counter == max_depth):\n",
    "        classification = classify_data(data)\n",
    "        return classification\n",
    "\n",
    "\n",
    "    # recursive part\n",
    "    else:\n",
    "        counter += 1\n",
    "\n",
    "        # helper functions\n",
    "        potential_splits = get_potential_splits(data)\n",
    "        split_column, split_value = determine_best_split(data, potential_splits)\n",
    "        data_below, data_above = split_data(data, split_column, split_value)\n",
    "\n",
    "        # instantiate sub-tree\n",
    "        feature_name= COLUMN_HEADERS[split_column]\n",
    "        question = \"{} <= {}\".format(feature_name, split_value)\n",
    "        sub_tree = {question: []}\n",
    "\n",
    "        # find answers (recursion)\n",
    "        yes_answer = decision_tree_algorithm(data_below, counter, max_depth)\n",
    "        no_answer = decision_tree_algorithm(data_above, counter, max_depth)\n",
    "\n",
    "        if yes_answer == no_answer:\n",
    "          sub_tree = yes_answer\n",
    "        else:\n",
    "          sub_tree[question].append(yes_answer)\n",
    "          sub_tree[question].append(no_answer)\n",
    "\n",
    "        return sub_tree\n"
   ],
   "metadata": {
    "collapsed": false,
    "pycharm": {
     "name": "#%% DECISION TREE\n"
    }
   }
  },
  {
   "cell_type": "code",
   "execution_count": 13,
   "outputs": [],
   "source": [
    "def classify_example(example, tree):\n",
    "    question = list(tree.keys())[0]\n",
    "    feature_name, comparison_operator, value = question.split()\n",
    "\n",
    "    # ask question\n",
    "    if example[feature_name] <= float(value):\n",
    "        answer = tree[question][0]\n",
    "    else:\n",
    "        answer = tree[question][1]\n",
    "\n",
    "    # base case\n",
    "    if not isinstance(answer, dict):\n",
    "        return answer\n",
    "\n",
    "    # recursive part\n",
    "    else:\n",
    "        residual_tree = answer\n",
    "        return classify_example(example, residual_tree)"
   ],
   "metadata": {
    "collapsed": false,
    "pycharm": {
     "name": "#%% CLASSIFICATION\n"
    }
   }
  },
  {
   "cell_type": "code",
   "execution_count": 14,
   "outputs": [],
   "source": [
    "def calculate_accuracy(df, tree):\n",
    "\n",
    "    df[\"classification\"] = df.apply(classify_example, axis=1, args=(tree,))\n",
    "    df[\"classification_correct\"] = df.classification == df.labels\n",
    "\n",
    "    accuracy = df[\"classification_correct\"].mean()\n",
    "\n",
    "    return accuracy"
   ],
   "metadata": {
    "collapsed": false,
    "pycharm": {
     "name": "#%% ACCURACY\n"
    }
   }
  },
  {
   "cell_type": "code",
   "execution_count": 23,
   "outputs": [
    {
     "name": "stdout",
     "output_type": "stream",
     "text": [
      "{'hull_rectangle_ratio <= 0.8395653368986642': [{'contour_length_hull_area_ratio <= 0.07438034094509827': [{'contour_length_area_ratio <= 0.037093511068620764': [{'contour_length_hull_area_ratio <= 0.029577908109185973': [{'solidity <= 0.8647718325894254': [0.0,\n",
      "                                                                                                                                                                                                                                                                  {'contour_length_rect_area_ratio <= 0.019825242353891187': [1.0,\n",
      "                                                                                                                                                                                                                                                                                                                              0.0]}]},\n",
      "                                                                                                                                                                                                                              1.0]},\n",
      "                                                                                                                                                                  {'hull_area <= 27251.75': [{'hull_rectangle_ratio <= 0.8029775879946903': [{'harris_corners <= 101.0': [{'extent <= 0.6163591734706474': [1.0,\n",
      "                                                                                                                                                                                                                                                                                                            0.0]},\n",
      "                                                                                                                                                                                                                                                                          0.0]},\n",
      "                                                                                                                                                                                                                                             {'hull_area <= 11740.5': [0.0,\n",
      "                                                                                                                                                                                                                                                                       {'solidity <= 0.791283555387448': [0.0,\n",
      "                                                                                                                                                                                                                                                                                                          {'contour_length_area_ratio <= 0.07104853086570934': [1.0,\n",
      "                                                                                                                                                                                                                                                                                                                                                                0.0]}]}]}]},\n",
      "                                                                                                                                                                                             {'hull_rectangle_ratio <= 0.7510648606418437': [{'ratio_wide_length <= 1.2634909733124018': [{'amount_contours <= 2.5': [1.0,\n",
      "                                                                                                                                                                                                                                                                                                                      0.0]},\n",
      "                                                                                                                                                                                                                                                                                          1.0]},\n",
      "                                                                                                                                                                                                                                             1.0]}]}]},\n",
      "                                                                                                           {'solidity <= 0.7765969381590984': [{'extent <= 0.5673292686856564': [{'contour_perimeters <= 580.558436870575': [1.0,\n",
      "                                                                                                                                                                                                                             {'contour_perimeters <= 862.4320642352104': [{'harris_corners <= 644.5': [0.0,\n",
      "                                                                                                                                                                                                                                                                                                       1.0]},\n",
      "                                                                                                                                                                                                                                                                          1.0]}]},\n",
      "                                                                                                                                                                                 0.0]},\n",
      "                                                                                                                                               1.0]}]},\n",
      "                                                {'hull_area <= 61007.75': [{'harris_corners <= 976.5': [{'solidity <= 0.9590580451374369': [{'contour_length_hull_area_ratio <= 0.04574039569980003': [{'rect_area <= 38249.993835449684': [{'rect_area <= 32002.496147155995': [{'contour_length_hull_area_ratio <= 0.04482253017229937': [1.0,\n",
      "                                                                                                                                                                                                                                                                                                                                            0.0]},\n",
      "                                                                                                                                                                                                                                                                                 {'solidity <= 0.9189196591658604': [0.0,\n",
      "                                                                                                                                                                                                                                                                                                                     {'ratio_wide_length <= 1.875101575151886': [1.0,\n",
      "                                                                                                                                                                                                                                                                                                                                                                 0.0]}]}]},\n",
      "                                                                                                                                                                                                                                            1.0]},\n",
      "                                                                                                                                                                                                       {'contour_hull_length_ratio <= 1.0204851318507435': [0.0,\n",
      "                                                                                                                                                                                                                                                            {'amount_contours <= 15.5': [1.0,\n",
      "                                                                                                                                                                                                                                                                                         {'amount_contours <= 17.0': [0.0,\n",
      "                                                                                                                                                                                                                                                                                                                      {'hull_area <= 6218.0': [{'hull_rectangle_ratio <= 0.8948532957131836': [0.0,\n",
      "                                                                                                                                                                                                                                                                                                                                                                                               1.0]},\n",
      "                                                                                                                                                                                                                                                                                                                                               1.0]}]}]}]}]},\n",
      "                                                                                                                                            {'harris_corners <= 164.0': [{'harris_corners <= 160.5': [1.0,\n",
      "                                                                                                                                                                                                      0.0]},\n",
      "                                                                                                                                                                         1.0]}]},\n",
      "                                                                                                        {'contour_perimeters <= 911.5391039848328': [0.0,\n",
      "                                                                                                                                                     1.0]}]},\n",
      "                                                                           {'harris_corners <= 207.0': [{'corners <= 25.5': [1.0,\n",
      "                                                                                                                             {'contour_hull_length_ratio <= 2.110546796171781': [{'corners <= 43.0': [{'hull_rectangle_ratio <= 0.9993888162242635': [0.0,\n",
      "                                                                                                                                                                                                                                                      {'hull_rectangle_ratio <= 0.9999615532487505': [1.0,\n",
      "                                                                                                                                                                                                                                                                                                      {'amount_contours <= 2.5': [{'corners <= 28.5': [1.0,\n",
      "                                                                                                                                                                                                                                                                                                                                                       0.0]},\n",
      "                                                                                                                                                                                                                                                                                                                                  {'solidity <= 0.9199923106497501': [0.0,\n",
      "                                                                                                                                                                                                                                                                                                                                                                      1.0]}]}]}]},\n",
      "                                                                                                                                                                                                      0.0]},\n",
      "                                                                                                                                                                                 {'solidity <= 0.8534711642334989': [1.0,\n",
      "                                                                                                                                                                                                                     0.0]}]}]},\n",
      "                                                                                                        {'corners <= 40.5': [{'solidity <= 0.9577085706687686': [{'contour_points <= 1568.5': [{'contour_hull_length_ratio <= 1.612680970979672': [{'corners <= 38.0': [1.0,\n",
      "                                                                                                                                                                                                                                                                        {'contour_points <= 1530.0': [1.0,\n",
      "                                                                                                                                                                                                                                                                                                      0.0]}]},\n",
      "                                                                                                                                                                                                                                                   0.0]},\n",
      "                                                                                                                                                                                               1.0]},\n",
      "                                                                                                                                                                 0.0]},\n",
      "                                                                                                                             {'approximation_area <= 64259.0': [{'contour_hull_length_ratio <= 1.5840286222743054': [{'hull_area <= 64913.0': [1.0,\n",
      "                                                                                                                                                                                                                                               {'contour_hull_length_ratio <= 1.4056226099238676': [0.0,\n",
      "                                                                                                                                                                                                                                                                                                    {'harris_corners <= 842.0': [1.0,\n",
      "                                                                                                                                                                                                                                                                                                                                 {'solidity <= 0.8514109957708573': [0.0,\n",
      "                                                                                                                                                                                                                                                                                                                                                                     1.0]}]}]}]},\n",
      "                                                                                                                                                                                                                     {'contour_points <= 2103.0': [{'corners <= 82.5': [{'solidity <= 0.7105651672433679': [1.0,\n",
      "                                                                                                                                                                                                                                                                                                            0.0]},\n",
      "                                                                                                                                                                                                                                                                        0.0]},\n",
      "                                                                                                                                                                                                                                                   1.0]}]},\n",
      "                                                                                                                                                                0.0]}]}]}]}]}\n"
     ]
    },
    {
     "data": {
      "text/plain": "0.75"
     },
     "execution_count": 23,
     "metadata": {},
     "output_type": "execute_result"
    }
   ],
   "source": [
    "random.seed(0)\n",
    "train_df, test_df = train_test_split(df, 0.1)\n",
    "tree = decision_tree_algorithm(train_df)\n",
    "#tree = decision_tree_algorithm(train_df, max_depth=10)\n",
    "accuracy = calculate_accuracy(test_df, tree)\n",
    "\n",
    "pprint.pprint(tree, width=50)\n",
    "accuracy\n",
    "\n",
    "#test_df"
   ],
   "metadata": {
    "collapsed": false,
    "pycharm": {
     "name": "#%% TESTING\n"
    }
   }
  },
  {
   "cell_type": "code",
   "execution_count": 16,
   "outputs": [
    {
     "name": "stdout",
     "output_type": "stream",
     "text": [
      "              precision    recall  f1-score   support\n",
      "\n",
      "           0       0.79      0.68      0.73        40\n",
      "           1       0.72      0.82      0.77        40\n",
      "\n",
      "    accuracy                           0.75        80\n",
      "   macro avg       0.76      0.75      0.75        80\n",
      "weighted avg       0.76      0.75      0.75        80\n",
      "\n"
     ]
    }
   ],
   "source": [
    "from sklearn.metrics import classification_report\n",
    "\n",
    "print(classification_report(test_df.labels, test_df.classification))"
   ],
   "metadata": {
    "collapsed": false,
    "pycharm": {
     "name": "#%% VALIDATION WITH SKLEARN\n"
    }
   }
  },
  {
   "cell_type": "code",
   "execution_count": 17,
   "outputs": [
    {
     "name": "stdout",
     "output_type": "stream",
     "text": [
      "[[27 13]\n",
      " [ 7 33]]\n"
     ]
    }
   ],
   "source": [
    "from sklearn.metrics import confusion_matrix\n",
    "\n",
    "print(confusion_matrix(test_df.labels, test_df.classification))\n"
   ],
   "metadata": {
    "collapsed": false,
    "pycharm": {
     "name": "#%% VALIDATION WITH SKLEARN\n"
    }
   }
  }
 ],
 "metadata": {
  "kernelspec": {
   "name": "pycharm-f94c62d2",
   "language": "python",
   "display_name": "PyCharm (VDKICombBrush)"
  },
  "language_info": {
   "codemirror_mode": {
    "name": "ipython",
    "version": 2
   },
   "file_extension": ".py",
   "mimetype": "text/x-python",
   "name": "python",
   "nbconvert_exporter": "python",
   "pygments_lexer": "ipython2",
   "version": "2.7.6"
  }
 },
 "nbformat": 4,
 "nbformat_minor": 0
}