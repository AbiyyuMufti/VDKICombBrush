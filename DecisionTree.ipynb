{
 "cells": [
  {
   "cell_type": "code",
   "execution_count": 230,
   "outputs": [],
   "source": [
    "import pandas as pd\n",
    "import random\n",
    "import numpy as np\n",
    "import pprint"
   ],
   "metadata": {
    "collapsed": false,
    "pycharm": {
     "name": "#%% LIBRARIES\n"
    }
   }
  },
  {
   "cell_type": "code",
   "execution_count": 231,
   "outputs": [],
   "source": [
    "df = pd.read_csv('800ImagesFeatures.csv')\n",
    "#df = pd.read_csv('Features2.csv')\n",
    "\n",
    "#print(df.head())"
   ],
   "metadata": {
    "collapsed": false,
    "pycharm": {
     "name": "#%% LOAD CSV DATA FOR DATA FRAME\n"
    }
   }
  },
  {
   "cell_type": "code",
   "execution_count": 232,
   "outputs": [],
   "source": [
    "def train_test_split(df, test_size):\n",
    "\n",
    "    if isinstance(test_size, float):\n",
    "        test_size = round(test_size * len(df)) #eg: test_size = 0.2 -> 20% x df\n",
    "\n",
    "    indices = df.index.tolist()\n",
    "    test_indices = random.sample(population=indices, k=test_size)\n",
    "\n",
    "    test_df = df.loc[test_indices]\n",
    "    train_df = df.drop(test_indices)\n",
    "\n",
    "    return train_df, test_df"
   ],
   "metadata": {
    "collapsed": false,
    "pycharm": {
     "name": "#%% SPLIT DATA FRAME FOR TRAINING AND TESTING\n"
    }
   }
  },
  {
   "cell_type": "code",
   "execution_count": 233,
   "outputs": [],
   "source": [
    "def check_purity(data):\n",
    "\n",
    "    label_column = data[:, -1]\n",
    "    unique_classes = np.unique(label_column)\n",
    "\n",
    "    #unique_classes = 0 and 1 (kamm, burst) -> length = 2\n",
    "    #if length only 1 -> only 1 class -> data pure -> True\n",
    "    if len(unique_classes) == 1:\n",
    "        return True\n",
    "    else:\n",
    "        return False"
   ],
   "metadata": {
    "collapsed": false,
    "pycharm": {
     "name": "#%% IF THE DATA IS ALR PURE ( ONLY 1 CLASS IN THIS DATA SET)\n"
    }
   }
  },
  {
   "cell_type": "code",
   "execution_count": 234,
   "outputs": [],
   "source": [
    "def classify_data(data):\n",
    "\n",
    "    label_column = data[:, -1]\n",
    "    unique_classes, counts_unique_classes = np.unique(label_column, return_counts=True)\n",
    "\n",
    "    index = counts_unique_classes.argmax()\n",
    "    classification = unique_classes[index]\n",
    "\n",
    "    return classification"
   ],
   "metadata": {
    "collapsed": false,
    "pycharm": {
     "name": "#%% CLASSIFYING DATA\n"
    }
   }
  },
  {
   "cell_type": "code",
   "execution_count": 235,
   "outputs": [],
   "source": [
    "def get_potential_splits(data):\n",
    "\n",
    "    potential_splits = {}\n",
    "    _, n_columns = data.shape\n",
    "    for column_index in range(n_columns - 1):        # excluding the last column which is the label\n",
    "        potential_splits[column_index] = []\n",
    "        values = data[:, column_index]\n",
    "        unique_values = np.unique(values)\n",
    "\n",
    "        for index in range(len(unique_values)):\n",
    "            if index != 0:\n",
    "                current_value = unique_values[index]\n",
    "                previous_value = unique_values[index - 1]\n",
    "                potential_split = (current_value + previous_value) / 2\n",
    "\n",
    "                potential_splits[column_index].append(potential_split)\n",
    "\n",
    "    return potential_splits"
   ],
   "metadata": {
    "collapsed": false,
    "pycharm": {
     "name": "#%% POTENTIAL SPLIT FOR NODE\n"
    }
   }
  },
  {
   "cell_type": "code",
   "execution_count": 236,
   "outputs": [],
   "source": [
    "def split_data(data, split_column, split_value):\n",
    "\n",
    "    split_column_values = data[:, split_column]\n",
    "\n",
    "    data_below = data[split_column_values <= split_value]\n",
    "    data_above = data[split_column_values >  split_value]\n",
    "\n",
    "    return data_below, data_above"
   ],
   "metadata": {
    "collapsed": false,
    "pycharm": {
     "name": "#%% SPLIT DATA TO DETERMINE QUESTION/ NODE\n"
    }
   }
  },
  {
   "cell_type": "code",
   "execution_count": 237,
   "outputs": [],
   "source": [
    "def calculate_entropy(data):\n",
    "\n",
    "    label_column = data[:, -1]\n",
    "    _, counts = np.unique(label_column, return_counts=True)\n",
    "\n",
    "    probabilities = counts / counts.sum()\n",
    "    entropy = sum(probabilities * -np.log2(probabilities))\n",
    "\n",
    "    return entropy"
   ],
   "metadata": {
    "collapsed": false,
    "pycharm": {
     "name": "#%% CALCULATE THE ENTROPY\n"
    }
   }
  },
  {
   "cell_type": "code",
   "execution_count": 238,
   "outputs": [],
   "source": [
    "def calculate_overall_entropy(data_below, data_above):\n",
    "\n",
    "    n = len(data_below) + len(data_above)\n",
    "    p_data_below = len(data_below) / n\n",
    "    p_data_above = len(data_above) / n\n",
    "\n",
    "    overall_entropy =  (p_data_below * calculate_entropy(data_below)\n",
    "                      + p_data_above * calculate_entropy(data_above))\n",
    "\n",
    "    return overall_entropy"
   ],
   "metadata": {
    "collapsed": false,
    "pycharm": {
     "name": "#%% CALCULATE OVERALL ENTROPY FOR NODE\n"
    }
   }
  },
  {
   "cell_type": "code",
   "execution_count": 239,
   "outputs": [],
   "source": [
    "def determine_best_split(data, potential_splits):\n",
    "\n",
    "    overall_entropy = 9999\n",
    "    for column_index in potential_splits:\n",
    "        for value in potential_splits[column_index]:\n",
    "            data_below, data_above = split_data(data, split_column=column_index, split_value=value)\n",
    "            current_overall_entropy = calculate_overall_entropy(data_below, data_above)\n",
    "\n",
    "            if current_overall_entropy <= overall_entropy:\n",
    "                overall_entropy = current_overall_entropy\n",
    "                best_split_column = column_index\n",
    "                best_split_value = value\n",
    "\n",
    "    return best_split_column, best_split_value\n"
   ],
   "metadata": {
    "collapsed": false,
    "pycharm": {
     "name": "#%% DETERMINE BEST SPLIT OR NODE\n"
    }
   }
  },
  {
   "cell_type": "code",
   "execution_count": 240,
   "outputs": [],
   "source": [
    "sub_tree = {\"question\": [\"yes_answer\",\n",
    "                         \"no_answer\"]}"
   ],
   "metadata": {
    "collapsed": false,
    "pycharm": {
     "name": "#%% DECISION TREE STRUCTURE\n"
    }
   }
  },
  {
   "cell_type": "code",
   "execution_count": 241,
   "outputs": [],
   "source": [
    "def decision_tree_algorithm(df, counter=0, max_depth = 10):\n",
    "\n",
    "    # data preparations\n",
    "    if counter == 0:          #at first, data still data frame and it needs to be converted to the numpy 2Darray (without header)\n",
    "        global COLUMN_HEADERS\n",
    "        COLUMN_HEADERS = df.columns\n",
    "        data = df.values\n",
    "    else:\n",
    "        data = df\n",
    "\n",
    "\n",
    "    # base cases (stop condition so recursive not go infinitiv)\n",
    "    if (check_purity(data)) or (counter == max_depth):\n",
    "        classification = classify_data(data)\n",
    "        return classification\n",
    "\n",
    "\n",
    "    # recursive part\n",
    "    else:\n",
    "        counter += 1\n",
    "\n",
    "        # helper functions\n",
    "        potential_splits = get_potential_splits(data)\n",
    "        split_column, split_value = determine_best_split(data, potential_splits)\n",
    "        data_below, data_above = split_data(data, split_column, split_value)\n",
    "\n",
    "        # instantiate sub-tree\n",
    "        feature_name= COLUMN_HEADERS[split_column]\n",
    "        question = \"{} <= {}\".format(feature_name, split_value)\n",
    "        sub_tree = {question: []}\n",
    "\n",
    "        # find answers (recursion)\n",
    "        yes_answer = decision_tree_algorithm(data_below, counter, max_depth)\n",
    "        no_answer = decision_tree_algorithm(data_above, counter, max_depth)\n",
    "\n",
    "        if yes_answer == no_answer:\n",
    "          sub_tree = yes_answer\n",
    "        else:\n",
    "          sub_tree[question].append(yes_answer)\n",
    "          sub_tree[question].append(no_answer)\n",
    "\n",
    "        return sub_tree\n"
   ],
   "metadata": {
    "collapsed": false,
    "pycharm": {
     "name": "#%% DECISION TREE\n"
    }
   }
  },
  {
   "cell_type": "code",
   "execution_count": 242,
   "outputs": [],
   "source": [
    "def classify_example(example, tree):\n",
    "    question = list(tree.keys())[0]\n",
    "    feature_name, comparison_operator, value = question.split()\n",
    "\n",
    "    # ask question\n",
    "    if example[feature_name] <= float(value):\n",
    "        answer = tree[question][0]\n",
    "    else:\n",
    "        answer = tree[question][1]\n",
    "\n",
    "    # base case\n",
    "    if not isinstance(answer, dict):\n",
    "        return answer\n",
    "\n",
    "    # recursive part\n",
    "    else:\n",
    "        residual_tree = answer\n",
    "        return classify_example(example, residual_tree)"
   ],
   "metadata": {
    "collapsed": false,
    "pycharm": {
     "name": "#%% CLASSIFICATION\n"
    }
   }
  },
  {
   "cell_type": "code",
   "execution_count": 244,
   "outputs": [
    {
     "name": "stdout",
     "output_type": "stream",
     "text": [
      "contour_points                      676.000000\n",
      "amount_contours                       3.000000\n",
      "rect_area                         20729.545245\n",
      "hull_area                         14977.000000\n",
      "approximation_area                10152.500000\n",
      "contour_perimeters                  789.494509\n",
      "corners                              53.000000\n",
      "harris_corners                      901.000000\n",
      "ratio_wide_length                     3.399329\n",
      "contour_length_area_ratio             0.077310\n",
      "contour_length_rect_area_ratio        0.038085\n",
      "contour_length_hull_area_ratio        0.052714\n",
      "contour_rect_length_ratio             1.149038\n",
      "contour_hull_length_ratio             1.318301\n",
      "extent                                0.492630\n",
      "solidity                              0.681845\n",
      "hull_rectangle_ratio                  0.722495\n",
      "labels                                0.000000\n",
      "Name: 0, dtype: float64\n"
     ]
    },
    {
     "data": {
      "text/plain": "0.0"
     },
     "execution_count": 244,
     "metadata": {},
     "output_type": "execute_result"
    }
   ],
   "source": [
    "#needs to be separated because after the function calculate_accuracy,\n",
    "# the table is modified by adding 2 more columns,\n",
    "# that is why when go back here, it creates error\n",
    "example= train_df.iloc[0]\n",
    "print(example)\n",
    "classify_example(example,tree)\n"
   ],
   "metadata": {
    "collapsed": false,
    "pycharm": {
     "name": "#%% test the classify_example\n"
    }
   }
  },
  {
   "cell_type": "code",
   "execution_count": 245,
   "outputs": [],
   "source": [
    "def calculate_accuracy(df, tree):\n",
    "\n",
    "    df[\"classification\"] = df.apply(classify_example, axis=1, args=(tree,))\n",
    "    df[\"classification_correct\"] = df.classification == df.labels\n",
    "\n",
    "    accuracy = df[\"classification_correct\"].mean()\n",
    "\n",
    "    return accuracy"
   ],
   "metadata": {
    "collapsed": false,
    "pycharm": {
     "name": "#%% ACCURACY\n"
    }
   }
  },
  {
   "cell_type": "code",
   "execution_count": 246,
   "outputs": [
    {
     "name": "stdout",
     "output_type": "stream",
     "text": [
      "{'hull_rectangle_ratio <= 0.8077957412719301': [{'contour_length_area_ratio <= 0.037084545491365695': [{'contour_hull_length_ratio <= 1.1707387253861703': [1.0,\n",
      "                                                                                                                                                            {'contour_hull_length_ratio <= 1.2103389576690942': [0.0,\n",
      "                                                                                                                                                                                                                 1.0]}]},\n",
      "                                                                                                       {'contour_length_hull_area_ratio <= 0.07590293849917454': [{'hull_area <= 27251.75': [{'contour_hull_length_ratio <= 1.0966656424931571': [{'harris_corners <= 234.0': [{'contour_rect_length_ratio <= 0.9333884602156977': [0.0,\n",
      "                                                                                                                                                                                                                                                                                                                                    {'contour_length_hull_area_ratio <= 0.04077560883218964': [0.0,\n",
      "                                                                                                                                                                                                                                                                                                                                                                                               1.0]}]},\n",
      "                                                                                                                                                                                                                                                                               0.0]},\n",
      "                                                                                                                                                                                                                                                  0.0]},\n",
      "                                                                                                                                                                                             {'approximation_area <= 20661.0': [1.0,\n",
      "                                                                                                                                                                                                                                {'contour_rect_length_ratio <= 1.5296378701806639': [0.0,\n",
      "                                                                                                                                                                                                                                                                                     {'extent <= 0.4749298205307795': [1.0,\n",
      "                                                                                                                                                                                                                                                                                                                       0.0]}]}]}]},\n",
      "                                                                                                                                                                  {'solidity <= 0.7878038923333925': [{'extent <= 0.5769323809469905': [{'corners <= 56.5': [{'contour_hull_length_ratio <= 1.193545652534901': [1.0,\n",
      "                                                                                                                                                                                                                                                                                                                 {'hull_rectangle_ratio <= 0.7660567111244998': [0.0,\n",
      "                                                                                                                                                                                                                                                                                                                                                                 1.0]}]},\n",
      "                                                                                                                                                                                                                                                             1.0]},\n",
      "                                                                                                                                                                                                                                        0.0]},\n",
      "                                                                                                                                                                                                      1.0]}]}]},\n",
      "                                                {'hull_area <= 61007.75': [{'harris_corners <= 1164.5': [{'hull_rectangle_ratio <= 0.8395653368986642': [{'approximation_area <= 16743.25': [{'amount_contours <= 17.5': [{'contour_hull_length_ratio <= 1.7670344068139645': [0.0,\n",
      "                                                                                                                                                                                                                                                                               1.0]},\n",
      "                                                                                                                                                                                                                          {'solidity <= 0.7552759313999953': [{'hull_rectangle_ratio <= 0.8288385753022829': [0.0,\n",
      "                                                                                                                                                                                                                                                                                                              1.0]},\n",
      "                                                                                                                                                                                                                                                              1.0]}]},\n",
      "                                                                                                                                                                                             1.0]},\n",
      "                                                                                                                                                         {'solidity <= 0.9590580451374369': [{'extent <= 0.7395448179271709': [1.0,\n",
      "                                                                                                                                                                                                                               {'ratio_wide_length <= 2.0319047643461685': [{'ratio_wide_length <= 0.4838779736680545': [{'contour_length_hull_area_ratio <= 0.06363192183301347': [{'contour_length_rect_area_ratio <= 0.05082458456675549': [1.0,\n",
      "                                                                                                                                                                                                                                                                                                                                                                                                                                               0.0]},\n",
      "                                                                                                                                                                                                                                                                                                                                                                                    1.0]},\n",
      "                                                                                                                                                                                                                                                                                                                         {'approximation_area <= 31730.25': [0.0,\n",
      "                                                                                                                                                                                                                                                                                                                                                             1.0]}]},\n",
      "                                                                                                                                                                                                                                                                            1.0]}]},\n",
      "                                                                                                                                                                                             {'harris_corners <= 164.0': [{'harris_corners <= 160.5': [1.0,\n",
      "                                                                                                                                                                                                                                                       0.0]},\n",
      "                                                                                                                                                                                                                          1.0]}]}]},\n",
      "                                                                                                         0.0]},\n",
      "                                                                           {'harris_corners <= 263.0': [{'contour_hull_length_ratio <= 2.206227135361475': [{'corners <= 29.5': [{'amount_contours <= 3.5': [1.0,\n",
      "                                                                                                                                                                                                             0.0]},\n",
      "                                                                                                                                                                                 {'amount_contours <= 2.5': [{'corners <= 38.5': [{'contour_length_area_ratio <= 0.02866727318983256': [{'harris_corners <= 139.0': [0.0,\n",
      "                                                                                                                                                                                                                                                                                                                     {'hull_rectangle_ratio <= 0.999919261822376': [1.0,\n",
      "                                                                                                                                                                                                                                                                                                                                                                    0.0]}]},\n",
      "                                                                                                                                                                                                                                                                                        1.0]},\n",
      "                                                                                                                                                                                                                                  {'solidity <= 0.6629983481744399': [{'solidity <= 0.6282122260668974': [0.0,\n",
      "                                                                                                                                                                                                                                                                                                          1.0]},\n",
      "                                                                                                                                                                                                                                                                      0.0]}]},\n",
      "                                                                                                                                                                                                             {'hull_rectangle_ratio <= 0.9875816993464053': [0.0,\n",
      "                                                                                                                                                                                                                                                             {'contour_points <= 1899.0': [{'hull_rectangle_ratio <= 0.9998154555940023': [{'solidity <= 0.7993157130205117': [1.0,\n",
      "                                                                                                                                                                                                                                                                                                                                                                               0.0]},\n",
      "                                                                                                                                                                                                                                                                                                                                           1.0]},\n",
      "                                                                                                                                                                                                                                                                                           0.0]}]}]}]},\n",
      "                                                                                                                                                            1.0]},\n",
      "                                                                                                        {'amount_contours <= 1.5': [{'hull_rectangle_ratio <= 0.9997846981930028': [1.0,\n",
      "                                                                                                                                                                                    {'solidity <= 0.8698000768935025': [{'contour_hull_length_ratio <= 2.000195965665786': [{'contour_hull_length_ratio <= 1.5211575824840398': [1.0,\n",
      "                                                                                                                                                                                                                                                                                                                                 {'contour_hull_length_ratio <= 1.5913671332831476': [0.0,\n",
      "                                                                                                                                                                                                                                                                                                                                                                                      {'contour_points <= 1559.0': [1.0,\n",
      "                                                                                                                                                                                                                                                                                                                                                                                                                    0.0]}]}]},\n",
      "                                                                                                                                                                                                                                                                            1.0]},\n",
      "                                                                                                                                                                                                                        1.0]}]},\n",
      "                                                                                                                                    {'contour_points <= 1574.5': [{'extent <= 0.9755286428296809': [{'harris_corners <= 1236.5': [{'amount_contours <= 23.5': [{'contour_hull_length_ratio <= 1.6244520275671868': [1.0,\n",
      "                                                                                                                                                                                                                                                                                                                    {'hull_rectangle_ratio <= 0.9966514068414389': [1.0,\n",
      "                                                                                                                                                                                                                                                                                                                                                                    0.0]}]},\n",
      "                                                                                                                                                                                                                                                               0.0]},\n",
      "                                                                                                                                                                                                                                  0.0]},\n",
      "                                                                                                                                                                                                    0.0]},\n",
      "                                                                                                                                                                  {'harris_corners <= 634.0': [{'contour_hull_length_ratio <= 2.0501718154379365': [{'corners <= 46.0': [1.0,\n",
      "                                                                                                                                                                                                                                                                         {'contour_length_area_ratio <= 0.03208449054021553': [1.0,\n",
      "                                                                                                                                                                                                                                                                                                                               0.0]}]},\n",
      "                                                                                                                                                                                                                                                    1.0]},\n",
      "                                                                                                                                                                                               0.0]}]}]}]}]}]}\n"
     ]
    },
    {
     "data": {
      "text/plain": "     contour_points  amount_contours     rect_area  hull_area  \\\n394             676                2  28754.648537    22359.5   \n776             568               10  16061.428794    12950.0   \n430            1011                2  65024.984436    64863.0   \n41             1752                7  65025.000000    65025.0   \n265             640                2  21178.651126    15945.5   \n..              ...              ...           ...        ...   \n703             592                2  12171.135912    11520.5   \n620             740                2  30090.000000    29373.0   \n707             984                5  60434.984985    60435.0   \n122             895               21  30340.260358    27002.0   \n689             599                5  18871.580731    16536.0   \n\n     approximation_area  contour_perimeters  corners  harris_corners  \\\n394             17094.0          805.234624       56             159   \n776              9427.0          603.622364       89             452   \n430             64804.5         1014.727922       44             281   \n41              51351.5         1819.931020       67             698   \n265             13175.0          778.347322       46             417   \n..                  ...                 ...      ...             ...   \n703             11039.0          733.661030       52             424   \n620             28696.5          745.798990       29             173   \n707             60435.0          984.000000       50             455   \n122             18386.0          959.203098      100             637   \n689             14391.5          737.761535       56             597   \n\n     ratio_wide_length  contour_length_area_ratio  \\\n394           3.182118                   0.047035   \n776           2.295432                   0.064045   \n430           1.000000                   0.015657   \n41            1.000000                   0.035487   \n265           4.743048                   0.059019   \n..                 ...                        ...   \n703           0.132169                   0.066245   \n620           0.462745                   0.025991   \n707           0.929412                   0.016282   \n122           2.393403                   0.052211   \n689           4.622744                   0.051278   \n\n     contour_length_rect_area_ratio  contour_length_hull_area_ratio  \\\n394                        0.028004                        0.036013   \n776                        0.037582                        0.046612   \n430                        0.015605                        0.015644   \n41                         0.027988                        0.027988   \n265                        0.036752                        0.048813   \n..                              ...                             ...   \n703                        0.060279                        0.063683   \n620                        0.024786                        0.025391   \n707                        0.016282                        0.016282   \n122                        0.031615                        0.035523   \n689                        0.039094                        0.044615   \n\n     contour_rect_length_ratio  contour_hull_length_ratio    extent  solidity  \\\n394                   1.012745                   1.160856  0.595382  0.765670   \n776                   1.094871                   1.234824  0.586810  0.727799   \n430                   0.994831                   1.002589  0.996686  0.999175   \n41                    1.784246                   1.784246  0.788681  0.788681   \n265                   1.014100                   1.142181  0.622703  0.827067   \n..                         ...                        ...       ...       ...   \n703                   1.067712                   1.103287  0.909940  0.961330   \n620                   0.999731                   1.007734  0.953606  0.976884   \n707                   1.000000                   1.000000  1.000000  1.000000   \n122                   1.255288                   1.347413  0.605516  0.680376   \n689                   1.026794                   1.106399  0.762390  0.870071   \n\n     hull_rectangle_ratio  labels  classification  classification_correct  \n394              0.777596       0             0.0                    True  \n776              0.806279       1             0.0                   False  \n430              0.997509       1             0.0                   False  \n41               1.000000       0             0.0                    True  \n265              0.752904       0             0.0                    True  \n..                    ...     ...             ...                     ...  \n703              0.946543       1             1.0                    True  \n620              0.976171       1             1.0                    True  \n707              1.000000       1             1.0                    True  \n122              0.889973       0             1.0                   False  \n689              0.876238       1             1.0                    True  \n\n[160 rows x 20 columns]",
      "text/html": "<div>\n<style scoped>\n    .dataframe tbody tr th:only-of-type {\n        vertical-align: middle;\n    }\n\n    .dataframe tbody tr th {\n        vertical-align: top;\n    }\n\n    .dataframe thead th {\n        text-align: right;\n    }\n</style>\n<table border=\"1\" class=\"dataframe\">\n  <thead>\n    <tr style=\"text-align: right;\">\n      <th></th>\n      <th>contour_points</th>\n      <th>amount_contours</th>\n      <th>rect_area</th>\n      <th>hull_area</th>\n      <th>approximation_area</th>\n      <th>contour_perimeters</th>\n      <th>corners</th>\n      <th>harris_corners</th>\n      <th>ratio_wide_length</th>\n      <th>contour_length_area_ratio</th>\n      <th>contour_length_rect_area_ratio</th>\n      <th>contour_length_hull_area_ratio</th>\n      <th>contour_rect_length_ratio</th>\n      <th>contour_hull_length_ratio</th>\n      <th>extent</th>\n      <th>solidity</th>\n      <th>hull_rectangle_ratio</th>\n      <th>labels</th>\n      <th>classification</th>\n      <th>classification_correct</th>\n    </tr>\n  </thead>\n  <tbody>\n    <tr>\n      <th>394</th>\n      <td>676</td>\n      <td>2</td>\n      <td>28754.648537</td>\n      <td>22359.5</td>\n      <td>17094.0</td>\n      <td>805.234624</td>\n      <td>56</td>\n      <td>159</td>\n      <td>3.182118</td>\n      <td>0.047035</td>\n      <td>0.028004</td>\n      <td>0.036013</td>\n      <td>1.012745</td>\n      <td>1.160856</td>\n      <td>0.595382</td>\n      <td>0.765670</td>\n      <td>0.777596</td>\n      <td>0</td>\n      <td>0.0</td>\n      <td>True</td>\n    </tr>\n    <tr>\n      <th>776</th>\n      <td>568</td>\n      <td>10</td>\n      <td>16061.428794</td>\n      <td>12950.0</td>\n      <td>9427.0</td>\n      <td>603.622364</td>\n      <td>89</td>\n      <td>452</td>\n      <td>2.295432</td>\n      <td>0.064045</td>\n      <td>0.037582</td>\n      <td>0.046612</td>\n      <td>1.094871</td>\n      <td>1.234824</td>\n      <td>0.586810</td>\n      <td>0.727799</td>\n      <td>0.806279</td>\n      <td>1</td>\n      <td>0.0</td>\n      <td>False</td>\n    </tr>\n    <tr>\n      <th>430</th>\n      <td>1011</td>\n      <td>2</td>\n      <td>65024.984436</td>\n      <td>64863.0</td>\n      <td>64804.5</td>\n      <td>1014.727922</td>\n      <td>44</td>\n      <td>281</td>\n      <td>1.000000</td>\n      <td>0.015657</td>\n      <td>0.015605</td>\n      <td>0.015644</td>\n      <td>0.994831</td>\n      <td>1.002589</td>\n      <td>0.996686</td>\n      <td>0.999175</td>\n      <td>0.997509</td>\n      <td>1</td>\n      <td>0.0</td>\n      <td>False</td>\n    </tr>\n    <tr>\n      <th>41</th>\n      <td>1752</td>\n      <td>7</td>\n      <td>65025.000000</td>\n      <td>65025.0</td>\n      <td>51351.5</td>\n      <td>1819.931020</td>\n      <td>67</td>\n      <td>698</td>\n      <td>1.000000</td>\n      <td>0.035487</td>\n      <td>0.027988</td>\n      <td>0.027988</td>\n      <td>1.784246</td>\n      <td>1.784246</td>\n      <td>0.788681</td>\n      <td>0.788681</td>\n      <td>1.000000</td>\n      <td>0</td>\n      <td>0.0</td>\n      <td>True</td>\n    </tr>\n    <tr>\n      <th>265</th>\n      <td>640</td>\n      <td>2</td>\n      <td>21178.651126</td>\n      <td>15945.5</td>\n      <td>13175.0</td>\n      <td>778.347322</td>\n      <td>46</td>\n      <td>417</td>\n      <td>4.743048</td>\n      <td>0.059019</td>\n      <td>0.036752</td>\n      <td>0.048813</td>\n      <td>1.014100</td>\n      <td>1.142181</td>\n      <td>0.622703</td>\n      <td>0.827067</td>\n      <td>0.752904</td>\n      <td>0</td>\n      <td>0.0</td>\n      <td>True</td>\n    </tr>\n    <tr>\n      <th>...</th>\n      <td>...</td>\n      <td>...</td>\n      <td>...</td>\n      <td>...</td>\n      <td>...</td>\n      <td>...</td>\n      <td>...</td>\n      <td>...</td>\n      <td>...</td>\n      <td>...</td>\n      <td>...</td>\n      <td>...</td>\n      <td>...</td>\n      <td>...</td>\n      <td>...</td>\n      <td>...</td>\n      <td>...</td>\n      <td>...</td>\n      <td>...</td>\n      <td>...</td>\n    </tr>\n    <tr>\n      <th>703</th>\n      <td>592</td>\n      <td>2</td>\n      <td>12171.135912</td>\n      <td>11520.5</td>\n      <td>11039.0</td>\n      <td>733.661030</td>\n      <td>52</td>\n      <td>424</td>\n      <td>0.132169</td>\n      <td>0.066245</td>\n      <td>0.060279</td>\n      <td>0.063683</td>\n      <td>1.067712</td>\n      <td>1.103287</td>\n      <td>0.909940</td>\n      <td>0.961330</td>\n      <td>0.946543</td>\n      <td>1</td>\n      <td>1.0</td>\n      <td>True</td>\n    </tr>\n    <tr>\n      <th>620</th>\n      <td>740</td>\n      <td>2</td>\n      <td>30090.000000</td>\n      <td>29373.0</td>\n      <td>28696.5</td>\n      <td>745.798990</td>\n      <td>29</td>\n      <td>173</td>\n      <td>0.462745</td>\n      <td>0.025991</td>\n      <td>0.024786</td>\n      <td>0.025391</td>\n      <td>0.999731</td>\n      <td>1.007734</td>\n      <td>0.953606</td>\n      <td>0.976884</td>\n      <td>0.976171</td>\n      <td>1</td>\n      <td>1.0</td>\n      <td>True</td>\n    </tr>\n    <tr>\n      <th>707</th>\n      <td>984</td>\n      <td>5</td>\n      <td>60434.984985</td>\n      <td>60435.0</td>\n      <td>60435.0</td>\n      <td>984.000000</td>\n      <td>50</td>\n      <td>455</td>\n      <td>0.929412</td>\n      <td>0.016282</td>\n      <td>0.016282</td>\n      <td>0.016282</td>\n      <td>1.000000</td>\n      <td>1.000000</td>\n      <td>1.000000</td>\n      <td>1.000000</td>\n      <td>1.000000</td>\n      <td>1</td>\n      <td>1.0</td>\n      <td>True</td>\n    </tr>\n    <tr>\n      <th>122</th>\n      <td>895</td>\n      <td>21</td>\n      <td>30340.260358</td>\n      <td>27002.0</td>\n      <td>18386.0</td>\n      <td>959.203098</td>\n      <td>100</td>\n      <td>637</td>\n      <td>2.393403</td>\n      <td>0.052211</td>\n      <td>0.031615</td>\n      <td>0.035523</td>\n      <td>1.255288</td>\n      <td>1.347413</td>\n      <td>0.605516</td>\n      <td>0.680376</td>\n      <td>0.889973</td>\n      <td>0</td>\n      <td>1.0</td>\n      <td>False</td>\n    </tr>\n    <tr>\n      <th>689</th>\n      <td>599</td>\n      <td>5</td>\n      <td>18871.580731</td>\n      <td>16536.0</td>\n      <td>14391.5</td>\n      <td>737.761535</td>\n      <td>56</td>\n      <td>597</td>\n      <td>4.622744</td>\n      <td>0.051278</td>\n      <td>0.039094</td>\n      <td>0.044615</td>\n      <td>1.026794</td>\n      <td>1.106399</td>\n      <td>0.762390</td>\n      <td>0.870071</td>\n      <td>0.876238</td>\n      <td>1</td>\n      <td>1.0</td>\n      <td>True</td>\n    </tr>\n  </tbody>\n</table>\n<p>160 rows × 20 columns</p>\n</div>"
     },
     "execution_count": 246,
     "metadata": {},
     "output_type": "execute_result"
    }
   ],
   "source": [
    "random.seed(0)\n",
    "train_df, test_df = train_test_split(df, 0.2)\n",
    "tree = decision_tree_algorithm(train_df)\n",
    "#tree = decision_tree_algorithm(train_df, max_depth=10)\n",
    "accuracy = calculate_accuracy(test_df, tree)\n",
    "\n",
    "pprint.pprint(tree, width=50)\n",
    "accuracy\n",
    "\n",
    "test_df"
   ],
   "metadata": {
    "collapsed": false,
    "pycharm": {
     "name": "#%% TESTING\n"
    }
   }
  },
  {
   "cell_type": "code",
   "execution_count": 247,
   "outputs": [
    {
     "name": "stdout",
     "output_type": "stream",
     "text": [
      "              precision    recall  f1-score   support\n",
      "\n",
      "           0       0.72      0.75      0.74        77\n",
      "           1       0.76      0.73      0.75        83\n",
      "\n",
      "    accuracy                           0.74       160\n",
      "   macro avg       0.74      0.74      0.74       160\n",
      "weighted avg       0.74      0.74      0.74       160\n",
      "\n"
     ]
    }
   ],
   "source": [
    "from sklearn.metrics import classification_report\n",
    "\n",
    "print(classification_report(test_df.labels, test_df.classification))"
   ],
   "metadata": {
    "collapsed": false,
    "pycharm": {
     "name": "#%% VALIDATION WITH SKLEARN\n"
    }
   }
  },
  {
   "cell_type": "code",
   "execution_count": 248,
   "outputs": [
    {
     "name": "stdout",
     "output_type": "stream",
     "text": [
      "[[58 19]\n",
      " [22 61]]\n"
     ]
    }
   ],
   "source": [
    "from sklearn.metrics import confusion_matrix\n",
    "\n",
    "print(confusion_matrix(test_df.labels, test_df.classification))\n"
   ],
   "metadata": {
    "collapsed": false,
    "pycharm": {
     "name": "#%% VALIDATION WITH SKLEARN\n"
    }
   }
  }
 ],
 "metadata": {
  "kernelspec": {
   "display_name": "Python 3",
   "language": "python",
   "name": "python3"
  },
  "language_info": {
   "codemirror_mode": {
    "name": "ipython",
    "version": 2
   },
   "file_extension": ".py",
   "mimetype": "text/x-python",
   "name": "python",
   "nbconvert_exporter": "python",
   "pygments_lexer": "ipython2",
   "version": "2.7.6"
  }
 },
 "nbformat": 4,
 "nbformat_minor": 0
}