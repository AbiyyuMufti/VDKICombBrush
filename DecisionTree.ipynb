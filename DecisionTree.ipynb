{
 "cells": [
  {
   "cell_type": "code",
   "execution_count": 18,
   "outputs": [],
   "source": [
    "import pandas as pd\n",
    "import random\n",
    "import numpy as np\n",
    "import pprint"
   ],
   "metadata": {
    "collapsed": false,
    "pycharm": {
     "name": "#%% LIBRARIES\n"
    }
   }
  },
  {
   "cell_type": "code",
   "execution_count": 19,
   "outputs": [],
   "source": [
    "df = pd.read_csv('800ImagesFeatures.csv')\n",
    "#df = pd.read_csv('Features2.csv')\n",
    "\n",
    "#print(df.head())"
   ],
   "metadata": {
    "collapsed": false,
    "pycharm": {
     "name": "#%% LOAD CSV DATA FOR DATA FRAME\n"
    }
   }
  },
  {
   "cell_type": "code",
   "execution_count": 20,
   "outputs": [],
   "source": [
    "def train_test_split(df, test_size):\n",
    "\n",
    "    if isinstance(test_size, float):\n",
    "        test_size = round(test_size * len(df)) #eg: test_size = 0.2 -> 20% x df\n",
    "\n",
    "    indices = df.index.tolist()\n",
    "    test_indices = random.sample(population=indices, k=test_size)\n",
    "\n",
    "    test_df = df.loc[test_indices]\n",
    "    train_df = df.drop(test_indices)\n",
    "\n",
    "    return train_df, test_df"
   ],
   "metadata": {
    "collapsed": false,
    "pycharm": {
     "name": "#%% SPLIT DATA FRAME FOR TRAINING AND TESTING\n"
    }
   }
  },
  {
   "cell_type": "code",
   "execution_count": 21,
   "outputs": [],
   "source": [
    "def check_purity(data):\n",
    "\n",
    "    label_column = data[:, -1]\n",
    "    unique_classes = np.unique(label_column)\n",
    "\n",
    "    #unique_classes = 0 and 1 (kamm, burst) -> length = 2\n",
    "    #if length only 1 -> only 1 class -> data pure -> True\n",
    "    if len(unique_classes) == 1:\n",
    "        return True\n",
    "    else:\n",
    "        return False"
   ],
   "metadata": {
    "collapsed": false,
    "pycharm": {
     "name": "#%% IF THE DATA IS ALR PURE ( ONLY 1 CLASS IN THIS DATA SET)\n"
    }
   }
  },
  {
   "cell_type": "code",
   "execution_count": 22,
   "outputs": [],
   "source": [
    "def classify_data(data):\n",
    "\n",
    "    label_column = data[:, -1]\n",
    "    unique_classes, counts_unique_classes = np.unique(label_column, return_counts=True)\n",
    "\n",
    "    index = counts_unique_classes.argmax()\n",
    "    classification = unique_classes[index]\n",
    "\n",
    "    return classification"
   ],
   "metadata": {
    "collapsed": false,
    "pycharm": {
     "name": "#%% CLASSIFYING DATA\n"
    }
   }
  },
  {
   "cell_type": "code",
   "execution_count": 23,
   "outputs": [],
   "source": [
    "def get_potential_splits(data):\n",
    "\n",
    "    potential_splits = {}\n",
    "    _, n_columns = data.shape\n",
    "    for column_index in range(n_columns - 1):        # excluding the last column which is the label\n",
    "        potential_splits[column_index] = []\n",
    "        values = data[:, column_index]\n",
    "        unique_values = np.unique(values)\n",
    "\n",
    "        for index in range(len(unique_values)):\n",
    "            if index != 0:\n",
    "                current_value = unique_values[index]\n",
    "                previous_value = unique_values[index - 1]\n",
    "                potential_split = (current_value + previous_value) / 2\n",
    "\n",
    "                potential_splits[column_index].append(potential_split)\n",
    "\n",
    "    return potential_splits"
   ],
   "metadata": {
    "collapsed": false,
    "pycharm": {
     "name": "#%% POTENTIAL SPLIT FOR NODE\n"
    }
   }
  },
  {
   "cell_type": "code",
   "execution_count": 24,
   "outputs": [],
   "source": [
    "def split_data(data, split_column, split_value):\n",
    "\n",
    "    split_column_values = data[:, split_column]\n",
    "\n",
    "    data_below = data[split_column_values <= split_value]\n",
    "    data_above = data[split_column_values >  split_value]\n",
    "\n",
    "    return data_below, data_above"
   ],
   "metadata": {
    "collapsed": false,
    "pycharm": {
     "name": "#%% SPLIT DATA TO DETERMINE QUESTION/ NODE\n"
    }
   }
  },
  {
   "cell_type": "code",
   "execution_count": 25,
   "outputs": [],
   "source": [
    "def calculate_entropy(data):\n",
    "\n",
    "    label_column = data[:, -1]\n",
    "    _, counts = np.unique(label_column, return_counts=True)\n",
    "\n",
    "    probabilities = counts / counts.sum()\n",
    "    entropy = sum(probabilities * -np.log2(probabilities))\n",
    "\n",
    "    return entropy"
   ],
   "metadata": {
    "collapsed": false,
    "pycharm": {
     "name": "#%% CALCULATE THE ENTROPY\n"
    }
   }
  },
  {
   "cell_type": "code",
   "execution_count": 26,
   "outputs": [],
   "source": [
    "def calculate_overall_entropy(data_below, data_above):\n",
    "\n",
    "    n = len(data_below) + len(data_above)\n",
    "    p_data_below = len(data_below) / n\n",
    "    p_data_above = len(data_above) / n\n",
    "\n",
    "    overall_entropy =  (p_data_below * calculate_entropy(data_below)\n",
    "                      + p_data_above * calculate_entropy(data_above))\n",
    "\n",
    "    return overall_entropy"
   ],
   "metadata": {
    "collapsed": false,
    "pycharm": {
     "name": "#%% CALCULATE OVERALL ENTROPY FOR NODE\n"
    }
   }
  },
  {
   "cell_type": "code",
   "execution_count": 27,
   "outputs": [],
   "source": [
    "def determine_best_split(data, potential_splits):\n",
    "\n",
    "    overall_entropy = 9999\n",
    "    for column_index in potential_splits:\n",
    "        for value in potential_splits[column_index]:\n",
    "            data_below, data_above = split_data(data, split_column=column_index, split_value=value)\n",
    "            current_overall_entropy = calculate_overall_entropy(data_below, data_above)\n",
    "\n",
    "            if current_overall_entropy <= overall_entropy:\n",
    "                overall_entropy = current_overall_entropy\n",
    "                best_split_column = column_index\n",
    "                best_split_value = value\n",
    "\n",
    "    return best_split_column, best_split_value\n"
   ],
   "metadata": {
    "collapsed": false,
    "pycharm": {
     "name": "#%% DETERMINE BEST SPLIT OR NODE\n"
    }
   }
  },
  {
   "cell_type": "code",
   "execution_count": 28,
   "outputs": [],
   "source": [
    "sub_tree = {\"question\": [\"yes_answer\",\n",
    "                         \"no_answer\"]}"
   ],
   "metadata": {
    "collapsed": false,
    "pycharm": {
     "name": "#%% DECISION TREE STRUCTURE\n"
    }
   }
  },
  {
   "cell_type": "code",
   "execution_count": 29,
   "outputs": [],
   "source": [
    "def decision_tree_algorithm(df, counter=0, max_depth = 10):\n",
    "\n",
    "    # data preparations\n",
    "    if counter == 0:          #at first, data still data frame and it needs to be converted to the numpy 2Darray (without header)\n",
    "        global COLUMN_HEADERS\n",
    "        COLUMN_HEADERS = df.columns\n",
    "        data = df.values\n",
    "    else:\n",
    "        data = df\n",
    "\n",
    "\n",
    "    # base cases (stop condition so recursive not go infinitiv)\n",
    "    if (check_purity(data)) or (counter == max_depth):\n",
    "        classification = classify_data(data)\n",
    "        return classification\n",
    "\n",
    "\n",
    "    # recursive part\n",
    "    else:\n",
    "        counter += 1\n",
    "\n",
    "        # helper functions\n",
    "        potential_splits = get_potential_splits(data)\n",
    "        split_column, split_value = determine_best_split(data, potential_splits)\n",
    "        data_below, data_above = split_data(data, split_column, split_value)\n",
    "\n",
    "        # instantiate sub-tree\n",
    "        feature_name= COLUMN_HEADERS[split_column]\n",
    "        question = \"{} <= {}\".format(feature_name, split_value)\n",
    "        sub_tree = {question: []}\n",
    "\n",
    "        # find answers (recursion)\n",
    "        yes_answer = decision_tree_algorithm(data_below, counter, max_depth)\n",
    "        no_answer = decision_tree_algorithm(data_above, counter, max_depth)\n",
    "\n",
    "        if yes_answer == no_answer:\n",
    "          sub_tree = yes_answer\n",
    "        else:\n",
    "          sub_tree[question].append(yes_answer)\n",
    "          sub_tree[question].append(no_answer)\n",
    "\n",
    "        return sub_tree\n"
   ],
   "metadata": {
    "collapsed": false,
    "pycharm": {
     "name": "#%% DECISION TREE\n"
    }
   }
  },
  {
   "cell_type": "code",
   "execution_count": 30,
   "outputs": [],
   "source": [
    "def classify_example(example, tree):\n",
    "    question = list(tree.keys())[0]\n",
    "    feature_name, comparison_operator, value = question.split()\n",
    "\n",
    "    # ask question\n",
    "    if example[feature_name] <= float(value):\n",
    "        answer = tree[question][0]\n",
    "    else:\n",
    "        answer = tree[question][1]\n",
    "\n",
    "    # base case\n",
    "    if not isinstance(answer, dict):\n",
    "        return answer\n",
    "\n",
    "    # recursive part\n",
    "    else:\n",
    "        residual_tree = answer\n",
    "        return classify_example(example, residual_tree)"
   ],
   "metadata": {
    "collapsed": false,
    "pycharm": {
     "name": "#%% CLASSIFICATION\n"
    }
   }
  },
  {
   "cell_type": "code",
   "execution_count": 31,
   "outputs": [],
   "source": [
    "def calculate_accuracy(df, tree):\n",
    "\n",
    "    df[\"classification\"] = df.apply(classify_example, axis=1, args=(tree,))\n",
    "    df[\"classification_correct\"] = df.classification == df.labels\n",
    "\n",
    "    accuracy = df[\"classification_correct\"].mean()\n",
    "\n",
    "    return accuracy"
   ],
   "metadata": {
    "collapsed": false,
    "pycharm": {
     "name": "#%% ACCURACY\n"
    }
   }
  },
  {
   "cell_type": "code",
   "execution_count": 32,
   "outputs": [
    {
     "name": "stdout",
     "output_type": "stream",
     "text": [
      "{'hull_rectangle_ratio <= 0.8077957412719301': [{'contour_length_area_ratio <= 0.037084545491365695': [{'contour_hull_length_ratio <= 1.1707387253861703': [1.0,\n",
      "                                                                                                                                                            {'contour_hull_length_ratio <= 1.2103389576690942': [0.0,\n",
      "                                                                                                                                                                                                                 1.0]}]},\n",
      "                                                                                                       {'contour_length_hull_area_ratio <= 0.07590293849917454': [{'hull_area <= 27251.75': [{'contour_hull_length_ratio <= 1.0966656424931571': [{'harris_corners <= 234.0': [{'contour_rect_length_ratio <= 0.9333884602156977': [0.0,\n",
      "                                                                                                                                                                                                                                                                                                                                    {'contour_length_hull_area_ratio <= 0.04077560883218964': [0.0,\n",
      "                                                                                                                                                                                                                                                                                                                                                                                               1.0]}]},\n",
      "                                                                                                                                                                                                                                                                               0.0]},\n",
      "                                                                                                                                                                                                                                                  0.0]},\n",
      "                                                                                                                                                                                             {'approximation_area <= 20661.0': [1.0,\n",
      "                                                                                                                                                                                                                                {'contour_rect_length_ratio <= 1.5296378701806639': [0.0,\n",
      "                                                                                                                                                                                                                                                                                     {'extent <= 0.4749298205307795': [1.0,\n",
      "                                                                                                                                                                                                                                                                                                                       0.0]}]}]}]},\n",
      "                                                                                                                                                                  {'solidity <= 0.7878038923333925': [{'extent <= 0.5769323809469905': [{'corners <= 56.5': [{'contour_hull_length_ratio <= 1.193545652534901': [1.0,\n",
      "                                                                                                                                                                                                                                                                                                                 {'hull_rectangle_ratio <= 0.7660567111244998': [0.0,\n",
      "                                                                                                                                                                                                                                                                                                                                                                 1.0]}]},\n",
      "                                                                                                                                                                                                                                                             1.0]},\n",
      "                                                                                                                                                                                                                                        0.0]},\n",
      "                                                                                                                                                                                                      1.0]}]}]},\n",
      "                                                {'hull_area <= 61007.75': [{'harris_corners <= 1164.5': [{'hull_rectangle_ratio <= 0.8395653368986642': [{'approximation_area <= 16743.25': [{'amount_contours <= 17.5': [{'contour_hull_length_ratio <= 1.7670344068139645': [0.0,\n",
      "                                                                                                                                                                                                                                                                               1.0]},\n",
      "                                                                                                                                                                                                                          {'solidity <= 0.7552759313999953': [{'hull_rectangle_ratio <= 0.8288385753022829': [0.0,\n",
      "                                                                                                                                                                                                                                                                                                              1.0]},\n",
      "                                                                                                                                                                                                                                                              1.0]}]},\n",
      "                                                                                                                                                                                             1.0]},\n",
      "                                                                                                                                                         {'solidity <= 0.9590580451374369': [{'extent <= 0.7395448179271709': [1.0,\n",
      "                                                                                                                                                                                                                               {'ratio_wide_length <= 2.0319047643461685': [{'ratio_wide_length <= 0.4838779736680545': [{'contour_length_hull_area_ratio <= 0.06363192183301347': [{'contour_length_rect_area_ratio <= 0.05082458456675549': [1.0,\n",
      "                                                                                                                                                                                                                                                                                                                                                                                                                                               0.0]},\n",
      "                                                                                                                                                                                                                                                                                                                                                                                    1.0]},\n",
      "                                                                                                                                                                                                                                                                                                                         {'approximation_area <= 31730.25': [0.0,\n",
      "                                                                                                                                                                                                                                                                                                                                                             1.0]}]},\n",
      "                                                                                                                                                                                                                                                                            1.0]}]},\n",
      "                                                                                                                                                                                             {'harris_corners <= 164.0': [{'harris_corners <= 160.5': [1.0,\n",
      "                                                                                                                                                                                                                                                       0.0]},\n",
      "                                                                                                                                                                                                                          1.0]}]}]},\n",
      "                                                                                                         0.0]},\n",
      "                                                                           {'harris_corners <= 263.0': [{'contour_hull_length_ratio <= 2.206227135361475': [{'corners <= 29.5': [{'amount_contours <= 3.5': [1.0,\n",
      "                                                                                                                                                                                                             0.0]},\n",
      "                                                                                                                                                                                 {'amount_contours <= 2.5': [{'corners <= 38.5': [{'contour_length_area_ratio <= 0.02866727318983256': [{'harris_corners <= 139.0': [0.0,\n",
      "                                                                                                                                                                                                                                                                                                                     {'hull_rectangle_ratio <= 0.999919261822376': [1.0,\n",
      "                                                                                                                                                                                                                                                                                                                                                                    0.0]}]},\n",
      "                                                                                                                                                                                                                                                                                        1.0]},\n",
      "                                                                                                                                                                                                                                  {'solidity <= 0.6629983481744399': [{'solidity <= 0.6282122260668974': [0.0,\n",
      "                                                                                                                                                                                                                                                                                                          1.0]},\n",
      "                                                                                                                                                                                                                                                                      0.0]}]},\n",
      "                                                                                                                                                                                                             {'hull_rectangle_ratio <= 0.9875816993464053': [0.0,\n",
      "                                                                                                                                                                                                                                                             {'contour_points <= 1899.0': [{'hull_rectangle_ratio <= 0.9998154555940023': [{'solidity <= 0.7993157130205117': [1.0,\n",
      "                                                                                                                                                                                                                                                                                                                                                                               0.0]},\n",
      "                                                                                                                                                                                                                                                                                                                                           1.0]},\n",
      "                                                                                                                                                                                                                                                                                           0.0]}]}]}]},\n",
      "                                                                                                                                                            1.0]},\n",
      "                                                                                                        {'amount_contours <= 1.5': [{'hull_rectangle_ratio <= 0.9997846981930028': [1.0,\n",
      "                                                                                                                                                                                    {'solidity <= 0.8698000768935025': [{'contour_hull_length_ratio <= 2.000195965665786': [{'contour_hull_length_ratio <= 1.5211575824840398': [1.0,\n",
      "                                                                                                                                                                                                                                                                                                                                 {'contour_hull_length_ratio <= 1.5913671332831476': [0.0,\n",
      "                                                                                                                                                                                                                                                                                                                                                                                      {'contour_points <= 1559.0': [1.0,\n",
      "                                                                                                                                                                                                                                                                                                                                                                                                                    0.0]}]}]},\n",
      "                                                                                                                                                                                                                                                                            1.0]},\n",
      "                                                                                                                                                                                                                        1.0]}]},\n",
      "                                                                                                                                    {'contour_points <= 1574.5': [{'extent <= 0.9755286428296809': [{'harris_corners <= 1236.5': [{'amount_contours <= 23.5': [{'contour_hull_length_ratio <= 1.6244520275671868': [1.0,\n",
      "                                                                                                                                                                                                                                                                                                                    {'hull_rectangle_ratio <= 0.9966514068414389': [1.0,\n",
      "                                                                                                                                                                                                                                                                                                                                                                    0.0]}]},\n",
      "                                                                                                                                                                                                                                                               0.0]},\n",
      "                                                                                                                                                                                                                                  0.0]},\n",
      "                                                                                                                                                                                                    0.0]},\n",
      "                                                                                                                                                                  {'harris_corners <= 634.0': [{'contour_hull_length_ratio <= 2.0501718154379365': [{'corners <= 46.0': [1.0,\n",
      "                                                                                                                                                                                                                                                                         {'contour_length_area_ratio <= 0.03208449054021553': [1.0,\n",
      "                                                                                                                                                                                                                                                                                                                               0.0]}]},\n",
      "                                                                                                                                                                                                                                                    1.0]},\n",
      "                                                                                                                                                                                               0.0]}]}]}]}]}]}\n"
     ]
    },
    {
     "data": {
      "text/plain": "0.74375"
     },
     "execution_count": 32,
     "metadata": {},
     "output_type": "execute_result"
    }
   ],
   "source": [
    "random.seed(0)\n",
    "train_df, test_df = train_test_split(df, 0.2)\n",
    "tree = decision_tree_algorithm(train_df)\n",
    "#tree = decision_tree_algorithm(train_df, max_depth=10)\n",
    "accuracy = calculate_accuracy(test_df, tree)\n",
    "\n",
    "pprint.pprint(tree, width=50)\n",
    "accuracy\n",
    "\n",
    "#test_df"
   ],
   "metadata": {
    "collapsed": false,
    "pycharm": {
     "name": "#%% TESTING\n"
    }
   }
  },
  {
   "cell_type": "code",
   "execution_count": 33,
   "outputs": [
    {
     "name": "stdout",
     "output_type": "stream",
     "text": [
      "              precision    recall  f1-score   support\n",
      "\n",
      "           0       0.72      0.75      0.74        77\n",
      "           1       0.76      0.73      0.75        83\n",
      "\n",
      "    accuracy                           0.74       160\n",
      "   macro avg       0.74      0.74      0.74       160\n",
      "weighted avg       0.74      0.74      0.74       160\n",
      "\n"
     ]
    }
   ],
   "source": [
    "from sklearn.metrics import classification_report\n",
    "\n",
    "print(classification_report(test_df.labels, test_df.classification))"
   ],
   "metadata": {
    "collapsed": false,
    "pycharm": {
     "name": "#%% VALIDATION WITH SKLEARN\n"
    }
   }
  },
  {
   "cell_type": "code",
   "execution_count": 34,
   "outputs": [
    {
     "name": "stdout",
     "output_type": "stream",
     "text": [
      "[[58 19]\n",
      " [22 61]]\n"
     ]
    }
   ],
   "source": [
    "from sklearn.metrics import confusion_matrix\n",
    "\n",
    "print(confusion_matrix(test_df.labels, test_df.classification))\n"
   ],
   "metadata": {
    "collapsed": false,
    "pycharm": {
     "name": "#%% VALIDATION WITH SKLEARN\n"
    }
   }
  }
 ],
 "metadata": {
  "kernelspec": {
   "display_name": "Python 3",
   "language": "python",
   "name": "python3"
  },
  "language_info": {
   "codemirror_mode": {
    "name": "ipython",
    "version": 2
   },
   "file_extension": ".py",
   "mimetype": "text/x-python",
   "name": "python",
   "nbconvert_exporter": "python",
   "pygments_lexer": "ipython2",
   "version": "2.7.6"
  }
 },
 "nbformat": 4,
 "nbformat_minor": 0
}