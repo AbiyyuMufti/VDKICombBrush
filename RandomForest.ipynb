{
 "cells": [
  {
   "cell_type": "code",
   "execution_count": 17,
   "metadata": {
    "collapsed": true,
    "pycharm": {
     "name": "#%% LIBRARIES\n"
    }
   },
   "outputs": [],
   "source": [
    "import numpy as np\n",
    "import pandas as pd\n",
    "%matplotlib inline\n",
    "\n",
    "import random\n",
    "import pprint\n",
    "\n",
    "from RandomForest_decision_tree_funct import decision_tree_algorithm, decision_tree_predictions\n",
    "from RandomForest_helper_funct import train_test_split, calculate_accuracy\n"
   ]
  },
  {
   "cell_type": "code",
   "execution_count": 25,
   "outputs": [],
   "source": [
    "df = pd.read_csv(\"Features2.csv\")\n",
    "#df.head()"
   ],
   "metadata": {
    "collapsed": false,
    "pycharm": {
     "name": "#%% LOAD CSV DATA AS DATA FRAME\n"
    }
   }
  },
  {
   "cell_type": "code",
   "execution_count": 26,
   "outputs": [
    {
     "data": {
      "text/plain": "   contour_points  amount_contours     rect_area  hull_area  \\\n0             676                3  20729.545245    14977.0   \n1            1725                3  65025.000000    65025.0   \n3             670                2  19416.432575    15594.0   \n4             750                2  23913.438783    19207.5   \n5            1656                1  65025.000000    65025.0   \n\n   approximation_area  contour_perimeters  corners  harris_corners  \\\n0             10152.5          789.494509       53             901   \n1             48154.5         1847.192994       92            1582   \n3             12276.5          727.989895       59             970   \n4             14916.5          905.744290       71             950   \n5             51777.0         1792.690468       59             715   \n\n   ratio_wide_length  contour_length_area_ratio  \\\n0           3.399329                   0.077310   \n1           1.000000                   0.038508   \n3           0.336447                   0.059283   \n4           3.920758                   0.060291   \n5           1.000000                   0.034637   \n\n   contour_length_rect_area_ratio  contour_length_hull_area_ratio  \\\n0                        0.038085                        0.052714   \n1                        0.028407                        0.028407   \n3                        0.037493                        0.046684   \n4                        0.037876                        0.047156   \n5                        0.027569                        0.027569   \n\n   contour_rect_length_ratio  contour_hull_length_ratio    extent  solidity  \\\n0                   1.149038                   1.318301  0.492630  0.681845   \n1                   1.810974                   1.810974  0.737693  0.737693   \n3                   1.133750                   1.289037  0.632454  0.787482   \n4                   1.178440                   1.319058  0.628224  0.782142   \n5                   1.757540                   1.757540  0.795940  0.795940   \n\n   hull_rectangle_ratio  labels  \n0              0.722495       0  \n1              1.000000       0  \n3              0.803134       0  \n4              0.803209       0  \n5              1.000000       0  ",
      "text/html": "<div>\n<style scoped>\n    .dataframe tbody tr th:only-of-type {\n        vertical-align: middle;\n    }\n\n    .dataframe tbody tr th {\n        vertical-align: top;\n    }\n\n    .dataframe thead th {\n        text-align: right;\n    }\n</style>\n<table border=\"1\" class=\"dataframe\">\n  <thead>\n    <tr style=\"text-align: right;\">\n      <th></th>\n      <th>contour_points</th>\n      <th>amount_contours</th>\n      <th>rect_area</th>\n      <th>hull_area</th>\n      <th>approximation_area</th>\n      <th>contour_perimeters</th>\n      <th>corners</th>\n      <th>harris_corners</th>\n      <th>ratio_wide_length</th>\n      <th>contour_length_area_ratio</th>\n      <th>contour_length_rect_area_ratio</th>\n      <th>contour_length_hull_area_ratio</th>\n      <th>contour_rect_length_ratio</th>\n      <th>contour_hull_length_ratio</th>\n      <th>extent</th>\n      <th>solidity</th>\n      <th>hull_rectangle_ratio</th>\n      <th>labels</th>\n    </tr>\n  </thead>\n  <tbody>\n    <tr>\n      <th>0</th>\n      <td>676</td>\n      <td>3</td>\n      <td>20729.545245</td>\n      <td>14977.0</td>\n      <td>10152.5</td>\n      <td>789.494509</td>\n      <td>53</td>\n      <td>901</td>\n      <td>3.399329</td>\n      <td>0.077310</td>\n      <td>0.038085</td>\n      <td>0.052714</td>\n      <td>1.149038</td>\n      <td>1.318301</td>\n      <td>0.492630</td>\n      <td>0.681845</td>\n      <td>0.722495</td>\n      <td>0</td>\n    </tr>\n    <tr>\n      <th>1</th>\n      <td>1725</td>\n      <td>3</td>\n      <td>65025.000000</td>\n      <td>65025.0</td>\n      <td>48154.5</td>\n      <td>1847.192994</td>\n      <td>92</td>\n      <td>1582</td>\n      <td>1.000000</td>\n      <td>0.038508</td>\n      <td>0.028407</td>\n      <td>0.028407</td>\n      <td>1.810974</td>\n      <td>1.810974</td>\n      <td>0.737693</td>\n      <td>0.737693</td>\n      <td>1.000000</td>\n      <td>0</td>\n    </tr>\n    <tr>\n      <th>3</th>\n      <td>670</td>\n      <td>2</td>\n      <td>19416.432575</td>\n      <td>15594.0</td>\n      <td>12276.5</td>\n      <td>727.989895</td>\n      <td>59</td>\n      <td>970</td>\n      <td>0.336447</td>\n      <td>0.059283</td>\n      <td>0.037493</td>\n      <td>0.046684</td>\n      <td>1.133750</td>\n      <td>1.289037</td>\n      <td>0.632454</td>\n      <td>0.787482</td>\n      <td>0.803134</td>\n      <td>0</td>\n    </tr>\n    <tr>\n      <th>4</th>\n      <td>750</td>\n      <td>2</td>\n      <td>23913.438783</td>\n      <td>19207.5</td>\n      <td>14916.5</td>\n      <td>905.744290</td>\n      <td>71</td>\n      <td>950</td>\n      <td>3.920758</td>\n      <td>0.060291</td>\n      <td>0.037876</td>\n      <td>0.047156</td>\n      <td>1.178440</td>\n      <td>1.319058</td>\n      <td>0.628224</td>\n      <td>0.782142</td>\n      <td>0.803209</td>\n      <td>0</td>\n    </tr>\n    <tr>\n      <th>5</th>\n      <td>1656</td>\n      <td>1</td>\n      <td>65025.000000</td>\n      <td>65025.0</td>\n      <td>51777.0</td>\n      <td>1792.690468</td>\n      <td>59</td>\n      <td>715</td>\n      <td>1.000000</td>\n      <td>0.034637</td>\n      <td>0.027569</td>\n      <td>0.027569</td>\n      <td>1.757540</td>\n      <td>1.757540</td>\n      <td>0.795940</td>\n      <td>0.795940</td>\n      <td>1.000000</td>\n      <td>0</td>\n    </tr>\n  </tbody>\n</table>\n</div>"
     },
     "execution_count": 26,
     "metadata": {},
     "output_type": "execute_result"
    }
   ],
   "source": [
    "train_df, test_df = train_test_split(df, test_size = 0.2)\n",
    "train_df.head()"
   ],
   "metadata": {
    "collapsed": false,
    "pycharm": {
     "name": "#%% SPLIT DATA\n"
    }
   }
  },
  {
   "cell_type": "code",
   "execution_count": 27,
   "outputs": [],
   "source": [
    "def bootstrapping(train_df, n_bootstrap):\n",
    "    bootstrap_indices = np.random.randint(low = 0,  high = len(train_df), size = n_bootstrap)\n",
    "    df_bootstrapped = train_df.iloc[bootstrap_indices]\n",
    "\n",
    "    return df_bootstrapped"
   ],
   "metadata": {
    "collapsed": false,
    "pycharm": {
     "name": "#%% DUPLICATE DATA FOR BOOTSTRAPPING\n"
    }
   }
  },
  {
   "cell_type": "code",
   "execution_count": 28,
   "outputs": [],
   "source": [
    "def random_forest_algorithm(train_df, n_trees, n_bootstrap, n_features, dt_max_depth):\n",
    "    forest = []\n",
    "    for i in range(n_trees):\n",
    "        df_bootstrapped = bootstrapping(train_df, n_bootstrap)\n",
    "        tree = decision_tree_algorithm(df_bootstrapped, max_depth=dt_max_depth, random_subspace=n_features)\n",
    "        forest.append(tree)\n",
    "\n",
    "    return forest"
   ],
   "metadata": {
    "collapsed": false,
    "pycharm": {
     "name": "#%% RANDOM FOREST\n"
    }
   }
  },
  {
   "cell_type": "code",
   "execution_count": 36,
   "outputs": [
    {
     "name": "stdout",
     "output_type": "stream",
     "text": [
      "{'contour_length_hull_area_ratio <= 0.06867133629579064': [{'contour_hull_length_ratio <= 1.1173568617230547': [1.0,\n",
      "                                                                                                                {'harris_corners <= 127.5': [1.0,\n",
      "                                                                                                                                             0.0]}]},\n",
      "                                                           1.0]}\n",
      "{'solidity <= 0.653109764860431': [1.0,\n",
      "                                   {'corners <= 51.0': [{'contour_perimeters <= 595.0264731645584': [{'hull_rectangle_ratio <= 0.8574161427791327': [0.0,\n",
      "                                                                                                                                                     1.0]},\n",
      "                                                                                                     1.0]},\n",
      "                                                        0.0]}]}\n",
      "{'solidity <= 0.653109764860431': [1.0,\n",
      "                                   {'corners <= 51.0': [{'contour_points <= 522.5': [{'hull_rectangle_ratio <= 0.8532847525271929': [0.0,\n",
      "                                                                                                                                     1.0]},\n",
      "                                                                                     1.0]},\n",
      "                                                        0.0]}]}\n",
      "{'harris_corners <= 693.5': [{'hull_rectangle_ratio <= 0.826863771774199': [{'contour_length_hull_area_ratio <= 0.0705510117700425': [0.0,\n",
      "                                                                                                                                      1.0]},\n",
      "                                                                            1.0]},\n",
      "                             {'hull_rectangle_ratio <= 0.6878733241296686': [1.0,\n",
      "                                                                             0.0]}]}\n"
     ]
    }
   ],
   "source": [
    "forest = random_forest_algorithm(train_df, n_trees = 4, n_bootstrap= 800, n_features=4, dt_max_depth=4)\n",
    "pprint.pprint(forest[0])\n",
    "pprint.pprint(forest[1])\n",
    "pprint.pprint(forest[2])\n",
    "pprint.pprint(forest[3])"
   ],
   "metadata": {
    "collapsed": false,
    "pycharm": {
     "name": "#%% test\n"
    }
   }
  },
  {
   "cell_type": "code",
   "execution_count": 30,
   "outputs": [],
   "source": [
    "def random_forest_predictions(test_df, forest):\n",
    "    df_predictions = {}\n",
    "    for i in range(len(forest)):\n",
    "        column_name = \"tree_{}\".format(i)\n",
    "        predictions = decision_tree_predictions(test_df, tree=forest[i])\n",
    "        df_predictions[column_name] = predictions\n",
    "\n",
    "    df_predictions = pd.DataFrame(df_predictions)\n",
    "    random_forest_predictions = df_predictions.mode(axis=1)[0]\n",
    "\n",
    "    return random_forest_predictions"
   ],
   "metadata": {
    "collapsed": false,
    "pycharm": {
     "name": "#%% PREDICTION\n"
    }
   }
  },
  {
   "cell_type": "code",
   "execution_count": 32,
   "outputs": [
    {
     "name": "stdout",
     "output_type": "stream",
     "text": [
      "Accuracy = 0.75\n"
     ]
    }
   ],
   "source": [
    "forest = random_forest_algorithm(train_df, n_trees=4, n_bootstrap=800, n_features=2, dt_max_depth=4)\n",
    "predictions = random_forest_predictions(test_df, forest)\n",
    "accuracy = calculate_accuracy(predictions, test_df.labels)\n",
    "\n",
    "print(\"Accuracy = {}\".format(accuracy))\n",
    "\n"
   ],
   "metadata": {
    "collapsed": false,
    "pycharm": {
     "name": "#%% TESTING\n"
    }
   }
  }
 ],
 "metadata": {
  "kernelspec": {
   "name": "pycharm-f94c62d2",
   "language": "python",
   "display_name": "PyCharm (VDKICombBrush)"
  },
  "language_info": {
   "codemirror_mode": {
    "name": "ipython",
    "version": 2
   },
   "file_extension": ".py",
   "mimetype": "text/x-python",
   "name": "python",
   "nbconvert_exporter": "python",
   "pygments_lexer": "ipython2",
   "version": "2.7.6"
  }
 },
 "nbformat": 4,
 "nbformat_minor": 0
}