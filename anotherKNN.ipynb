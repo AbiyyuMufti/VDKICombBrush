{
 "cells": [
  {
   "cell_type": "code",
   "execution_count": 1,
   "metadata": {
    "collapsed": true
   },
   "outputs": [],
   "source": [
    "import numpy as np\n",
    "from sklearn.neighbors import KNeighborsClassifier\n",
    "from sklearn.preprocessing import LabelEncoder\n",
    "from sklearn.model_selection import train_test_split\n",
    "from sklearn.metrics import classification_report\n",
    "from imutils import paths\n",
    "import pandas as pd\n",
    "\n",
    "args = {\n",
    "\t\"dataset\": \"resources\",\n",
    "\t\"neighbors\": 3,\n",
    "\t\"jobs\": -1\n",
    "}"
   ]
  },
  {
   "cell_type": "code",
   "execution_count": 2,
   "outputs": [
    {
     "data": {
      "text/plain": "   contour_points  amount_contours     rect_area  hull_area  \\\n0             676                3  20729.545245    14977.0   \n1            1725                3  65025.000000    65025.0   \n2             514                2  18142.000000    14201.0   \n3             492               83   6807.694670     4847.5   \n4             988                5  54314.985718    33316.0   \n\n   approximation_area  contour_perimeters  corners  harris_corners  \\\n0             10152.5          789.494509       53             901   \n1             48154.5         1847.192994       92            1582   \n2             11280.5          561.220343       62             305   \n3              1323.5          598.867093       52              15   \n4             25395.5         1076.641697       54            1504   \n\n   ratio_wide_length  contour_length_area_ratio  \\\n0           3.399329                   0.077310   \n1           1.000000                   0.038508   \n2           0.487047                   0.049727   \n3           0.124905                   0.447584   \n4           1.197183                   0.042451   \n\n   contour_length_rect_area_ratio  contour_length_hull_area_ratio  \\\n0                        0.038085                        0.052714   \n1                        0.028407                        0.028407   \n2                        0.030935                        0.039520   \n3                        0.087969                        0.123541   \n4                        0.019822                        0.032316   \n\n   contour_rect_length_ratio  contour_hull_length_ratio    extent  solidity  \\\n0                   1.149038                   1.318301  0.492630  0.681845   \n1                   1.810974                   1.810974  0.737693  0.737693   \n2                   0.977736                   1.134376  0.622092  0.794733   \n3                   1.140181                   1.214194  0.196542  0.276019   \n4                   1.150258                   1.313623  0.466943  0.761256   \n\n   hull_rectangle_ratio  labels  \n0              0.722495       0  \n1              1.000000       0  \n2              0.782769       0  \n3              0.712062       0  \n4              0.613385       0  ",
      "text/html": "<div>\n<style scoped>\n    .dataframe tbody tr th:only-of-type {\n        vertical-align: middle;\n    }\n\n    .dataframe tbody tr th {\n        vertical-align: top;\n    }\n\n    .dataframe thead th {\n        text-align: right;\n    }\n</style>\n<table border=\"1\" class=\"dataframe\">\n  <thead>\n    <tr style=\"text-align: right;\">\n      <th></th>\n      <th>contour_points</th>\n      <th>amount_contours</th>\n      <th>rect_area</th>\n      <th>hull_area</th>\n      <th>approximation_area</th>\n      <th>contour_perimeters</th>\n      <th>corners</th>\n      <th>harris_corners</th>\n      <th>ratio_wide_length</th>\n      <th>contour_length_area_ratio</th>\n      <th>contour_length_rect_area_ratio</th>\n      <th>contour_length_hull_area_ratio</th>\n      <th>contour_rect_length_ratio</th>\n      <th>contour_hull_length_ratio</th>\n      <th>extent</th>\n      <th>solidity</th>\n      <th>hull_rectangle_ratio</th>\n      <th>labels</th>\n    </tr>\n  </thead>\n  <tbody>\n    <tr>\n      <th>0</th>\n      <td>676</td>\n      <td>3</td>\n      <td>20729.545245</td>\n      <td>14977.0</td>\n      <td>10152.5</td>\n      <td>789.494509</td>\n      <td>53</td>\n      <td>901</td>\n      <td>3.399329</td>\n      <td>0.077310</td>\n      <td>0.038085</td>\n      <td>0.052714</td>\n      <td>1.149038</td>\n      <td>1.318301</td>\n      <td>0.492630</td>\n      <td>0.681845</td>\n      <td>0.722495</td>\n      <td>0</td>\n    </tr>\n    <tr>\n      <th>1</th>\n      <td>1725</td>\n      <td>3</td>\n      <td>65025.000000</td>\n      <td>65025.0</td>\n      <td>48154.5</td>\n      <td>1847.192994</td>\n      <td>92</td>\n      <td>1582</td>\n      <td>1.000000</td>\n      <td>0.038508</td>\n      <td>0.028407</td>\n      <td>0.028407</td>\n      <td>1.810974</td>\n      <td>1.810974</td>\n      <td>0.737693</td>\n      <td>0.737693</td>\n      <td>1.000000</td>\n      <td>0</td>\n    </tr>\n    <tr>\n      <th>2</th>\n      <td>514</td>\n      <td>2</td>\n      <td>18142.000000</td>\n      <td>14201.0</td>\n      <td>11280.5</td>\n      <td>561.220343</td>\n      <td>62</td>\n      <td>305</td>\n      <td>0.487047</td>\n      <td>0.049727</td>\n      <td>0.030935</td>\n      <td>0.039520</td>\n      <td>0.977736</td>\n      <td>1.134376</td>\n      <td>0.622092</td>\n      <td>0.794733</td>\n      <td>0.782769</td>\n      <td>0</td>\n    </tr>\n    <tr>\n      <th>3</th>\n      <td>492</td>\n      <td>83</td>\n      <td>6807.694670</td>\n      <td>4847.5</td>\n      <td>1323.5</td>\n      <td>598.867093</td>\n      <td>52</td>\n      <td>15</td>\n      <td>0.124905</td>\n      <td>0.447584</td>\n      <td>0.087969</td>\n      <td>0.123541</td>\n      <td>1.140181</td>\n      <td>1.214194</td>\n      <td>0.196542</td>\n      <td>0.276019</td>\n      <td>0.712062</td>\n      <td>0</td>\n    </tr>\n    <tr>\n      <th>4</th>\n      <td>988</td>\n      <td>5</td>\n      <td>54314.985718</td>\n      <td>33316.0</td>\n      <td>25395.5</td>\n      <td>1076.641697</td>\n      <td>54</td>\n      <td>1504</td>\n      <td>1.197183</td>\n      <td>0.042451</td>\n      <td>0.019822</td>\n      <td>0.032316</td>\n      <td>1.150258</td>\n      <td>1.313623</td>\n      <td>0.466943</td>\n      <td>0.761256</td>\n      <td>0.613385</td>\n      <td>0</td>\n    </tr>\n  </tbody>\n</table>\n</div>"
     },
     "execution_count": 2,
     "metadata": {},
     "output_type": "execute_result"
    }
   ],
   "source": [
    "my_data = pd.read_csv(\"800ImagesFeatures.csv\")\n",
    "my_data.head()\n"
   ],
   "metadata": {
    "collapsed": false,
    "pycharm": {
     "name": "#%%\n"
    }
   }
  },
  {
   "cell_type": "code",
   "execution_count": 3,
   "outputs": [
    {
     "name": "stdout",
     "output_type": "stream",
     "text": [
      "[0 0 0 0 0 0 0 0 0 0 0 0 0 0 0 0 0 0 0 0 0 0 0 0 0 0 0 0 0 0 0 0 0 0 0 0 0\n",
      " 0 0 0 0 0 0 0 0 0 0 0 0 0 0 0 0 0 0 0 0 0 0 0 0 0 0 0 0 0 0 0 0 0 0 0 0 0\n",
      " 0 0 0 0 0 0 0 0 0 0 0 0 0 0 0 0 0 0 0 0 0 0 0 0 0 0 0 0 0 0 0 0 0 0 0 0 0\n",
      " 0 0 0 0 0 0 0 0 0 0 0 0 0 0 0 0 0 0 0 0 0 0 0 0 0 0 0 0 0 0 0 0 0 0 0 0 0\n",
      " 0 0 0 0 0 0 0 0 0 0 0 0 0 0 0 0 0 0 0 0 0 0 0 0 0 0 0 0 0 0 0 0 0 0 0 0 0\n",
      " 0 0 0 0 0 0 0 0 0 0 0 0 0 0 0 0 0 0 0 0 0 0 0 0 0 0 0 0 0 0 0 0 0 0 0 0 0\n",
      " 0 0 0 0 0 0 0 0 0 0 0 0 0 0 0 0 0 0 0 0 0 0 0 0 0 0 0 0 0 0 0 0 0 0 0 0 0\n",
      " 0 0 0 0 0 0 0 0 0 0 0 0 0 0 0 0 0 0 0 0 0 0 0 0 0 0 0 0 0 0 0 0 0 0 0 0 0\n",
      " 0 0 0 0 0 0 0 0 0 0 0 0 0 0 0 0 0 0 0 0 0 0 0 0 0 0 0 0 0 0 0 0 0 0 0 0 0\n",
      " 0 0 0 0 0 0 0 0 0 0 0 0 0 0 0 0 0 0 0 0 0 0 0 0 0 0 0 0 0 0 0 0 0 0 0 0 0\n",
      " 0 0 0 0 0 0 0 0 0 0 0 0 0 0 0 0 0 0 0 0 0 0 0 0 0 0 0 0 0 0 1 1 1 1 1 1 1\n",
      " 1 1 1 1 1 1 1 1 1 1 1 1 1 1 1 1 1 1 1 1 1 1 1 1 1 1 1 1 1 1 1 1 1 1 1 1 1\n",
      " 1 1 1 1 1 1 1 1 1 1 1 1 1 1 1 1 1 1 1 1 1 1 1 1 1 1 1 1 1 1 1 1 1 1 1 1 1\n",
      " 1 1 1 1 1 1 1 1 1 1 1 1 1 1 1 1 1 1 1 1 1 1 1 1 1 1 1 1 1 1 1 1 1 1 1 1 1\n",
      " 1 1 1 1 1 1 1 1 1 1 1 1 1 1 1 1 1 1 1 1 1 1 1 1 1 1 1 1 1 1 1 1 1 1 1 1 1\n",
      " 1 1 1 1 1 1 1 1 1 1 1 1 1 1 1 1 1 1 1 1 1 1 1 1 1 1 1 1 1 1 1 1 1 1 1 1 1\n",
      " 1 1 1 1 1 1 1 1 1 1 1 1 1 1 1 1 1 1 1 1 1 1 1 1 1 1 1 1 1 1 1 1 1 1 1 1 1\n",
      " 1 1 1 1 1 1 1 1 1 1 1 1 1 1 1 1 1 1 1 1 1 1 1 1 1 1 1 1 1 1 1 1 1 1 1 1 1\n",
      " 1 1 1 1 1 1 1 1 1 1 1 1 1 1 1 1 1 1 1 1 1 1 1 1 1 1 1 1 1 1 1 1 1 1 1 1 1\n",
      " 1 1 1 1 1 1 1 1 1 1 1 1 1 1 1 1 1 1 1 1 1 1 1 1 1 1 1 1 1 1 1 1 1 1 1 1 1\n",
      " 1 1 1 1 1 1 1 1 1 1 1 1 1 1 1 1 1 1 1 1 1 1 1 1 1 1 1 1 1 1 1 1 1 1 1 1 1\n",
      " 1 1 1 1 1 1 1 1 1 1 1 1 1 1 1 1 1 1 1 1 1 1 1]\n"
     ]
    }
   ],
   "source": [
    "labels = my_data.iloc[:,-1].to_numpy()\n"
   ],
   "metadata": {
    "collapsed": false,
    "pycharm": {
     "name": "#%%\n"
    }
   }
  },
  {
   "cell_type": "code",
   "execution_count": 4,
   "outputs": [
    {
     "name": "stdout",
     "output_type": "stream",
     "text": [
      "[[6.76000000e+02 3.00000000e+00 2.07295452e+04 ... 4.92630199e-01\n",
      "  6.81845496e-01 7.22495348e-01]\n",
      " [1.72500000e+03 3.00000000e+00 6.50250000e+04 ... 7.37693195e-01\n",
      "  7.37693195e-01 1.00000000e+00]\n",
      " [5.14000000e+02 2.00000000e+00 1.81420000e+04 ... 6.22092382e-01\n",
      "  7.94732765e-01 7.82769265e-01]\n",
      " ...\n",
      " [7.85000000e+02 2.00000000e+00 3.18749923e+04 ... 8.87168842e-01\n",
      "  8.93772025e-01 9.92612005e-01]\n",
      " [5.75000000e+02 2.00000000e+00 1.87758680e+04 ... 9.49117241e-01\n",
      "  9.86247164e-01 9.62352315e-01]\n",
      " [5.51000000e+02 2.00000000e+00 2.16079503e+04 ... 8.59058805e-01\n",
      "  9.71807759e-01 8.83980188e-01]]\n",
      "(800, 17)\n"
     ]
    }
   ],
   "source": [
    "datas = my_data.iloc[:,:-1].to_numpy()\n",
    "print(datas)\n",
    "print(datas.shape)"
   ],
   "metadata": {
    "collapsed": false,
    "pycharm": {
     "name": "#%%\n"
    }
   }
  },
  {
   "cell_type": "code",
   "execution_count": 5,
   "outputs": [],
   "source": [
    "(trainX, testX, trainY, testY) = train_test_split(datas, labels, test_size=0.20)"
   ],
   "metadata": {
    "collapsed": false,
    "pycharm": {
     "name": "#%%\n"
    }
   }
  },
  {
   "cell_type": "code",
   "execution_count": 6,
   "outputs": [],
   "source": [
    "import pandas as pd\n",
    "from sklearn.model_selection import train_test_split\n",
    "from sklearn.metrics import accuracy_score, precision_score, \\\n",
    "    recall_score, f1_score\n",
    "from sklearn.preprocessing import MinMaxScaler\n",
    "\n",
    "def print_scores(name: str, y_test, y_pred, process_time: float) -> dict:\n",
    "    \"\"\" Prints several information for the given classification.\n",
    "\n",
    "    :param name: Name of the classification method\n",
    "    :type name: str\n",
    "    :param y_test: Test DataFrame\n",
    "    :type y_test: pd.DataFrame\n",
    "    :param y_pred: Predicted DataFrame\n",
    "    :type y_pred: pd.DataFrame\n",
    "    :param process_time: Processing time of the method\n",
    "    :type process_time: float\n",
    "    :return: Scores as dictionary\n",
    "    :rtype: dict\n",
    "    \"\"\"\n",
    "\n",
    "    ret = {\n",
    "        \"name\": name,\n",
    "        \"processing_time\": round(process_time, 3),\n",
    "        \"accuracy_score\": round(accuracy_score(y_test, y_pred), 3),\n",
    "        \"precision_score\": round(precision_score(y_test, y_pred), 3),\n",
    "        \"recall_score\": round(recall_score(y_test, y_pred), 3),\n",
    "        \"f1_score\": round(f1_score(y_test, y_pred), 3),\n",
    "    }\n",
    "\n",
    "    header_label = f\"---------- {name} ----------\"\n",
    "    footer_label = \"-\" * len(header_label)\n",
    "\n",
    "    print(\"\")\n",
    "    print(header_label)\n",
    "    print(f\"Time required: {ret['processing_time']}\")\n",
    "    print(f\"Accuracy Score - (tp+tn)/overall: {ret['accuracy_score']}\")\n",
    "    print(f\"Precision Score -  tp / (tp + fp): {ret['precision_score']}\")\n",
    "    print(f\"Recall Score - tp / (tp + fn): {ret['recall_score']}\")\n",
    "    print(f\"F1 Score - 2 * (precision * recall) / (precision + recall): {ret['f1_score']}\")\n",
    "    print(footer_label)\n",
    "    print(\"\")\n",
    "\n",
    "    return ret"
   ],
   "metadata": {
    "collapsed": false,
    "pycharm": {
     "name": "#%%\n"
    }
   }
  },
  {
   "cell_type": "code",
   "execution_count": 7,
   "outputs": [
    {
     "name": "stdout",
     "output_type": "stream",
     "text": [
      "[INFO] evaluating k-NN classifier...\n",
      "              precision    recall  f1-score   support\n",
      "\n",
      "       brush       0.72      0.83      0.77        71\n",
      "        comb       0.85      0.74      0.79        89\n",
      "\n",
      "    accuracy                           0.78       160\n",
      "   macro avg       0.78      0.79      0.78       160\n",
      "weighted avg       0.79      0.78      0.78       160\n",
      "\n"
     ]
    }
   ],
   "source": [
    "import time\n",
    "start_time = time.time()\n",
    "# train and evaluate a k-NN classifier on the raw pixel intensities\n",
    "print(\"[INFO] evaluating k-NN classifier...\")\n",
    "model = KNeighborsClassifier(n_neighbors=args[\"neighbors\"], algorithm=\"brute\")\n",
    "model.fit(trainX, trainY)\n",
    "y_predict = model.predict(testX)\n",
    "\n",
    "print(classification_report(testY, y_predict, target_names=[\"brush\", \"comb\"]))\n",
    "\n",
    "# k = args[\"neighbors\"]\n",
    "# print_scores(\n",
    "#     f\"SKLEARN KNN (k={k})\", trainY, y_predict, time.time()-start_time\n",
    "# )"
   ],
   "metadata": {
    "collapsed": false,
    "pycharm": {
     "name": "#%%\n"
    }
   }
  },
  {
   "cell_type": "code",
   "execution_count": 8,
   "outputs": [
    {
     "name": "stdout",
     "output_type": "stream",
     "text": [
      "0    0\n",
      "1    0\n",
      "2    0\n",
      "3    0\n",
      "4    0\n",
      "Name: labels, dtype: int64\n",
      "   contour_points  amount_contours     rect_area  hull_area  \\\n",
      "0             676                3  20729.545245    14977.0   \n",
      "1            1725                3  65025.000000    65025.0   \n",
      "2             514                2  18142.000000    14201.0   \n",
      "3             492               83   6807.694670     4847.5   \n",
      "4             988                5  54314.985718    33316.0   \n",
      "\n",
      "   approximation_area  contour_perimeters  corners  harris_corners  \\\n",
      "0             10152.5          789.494509       53             901   \n",
      "1             48154.5         1847.192994       92            1582   \n",
      "2             11280.5          561.220343       62             305   \n",
      "3              1323.5          598.867093       52              15   \n",
      "4             25395.5         1076.641697       54            1504   \n",
      "\n",
      "   ratio_wide_length  contour_length_area_ratio  \\\n",
      "0           3.399329                   0.077310   \n",
      "1           1.000000                   0.038508   \n",
      "2           0.487047                   0.049727   \n",
      "3           0.124905                   0.447584   \n",
      "4           1.197183                   0.042451   \n",
      "\n",
      "   contour_length_rect_area_ratio  contour_length_hull_area_ratio  \\\n",
      "0                        0.038085                        0.052714   \n",
      "1                        0.028407                        0.028407   \n",
      "2                        0.030935                        0.039520   \n",
      "3                        0.087969                        0.123541   \n",
      "4                        0.019822                        0.032316   \n",
      "\n",
      "   contour_rect_length_ratio  contour_hull_length_ratio    extent  solidity  \\\n",
      "0                   1.149038                   1.318301  0.492630  0.681845   \n",
      "1                   1.810974                   1.810974  0.737693  0.737693   \n",
      "2                   0.977736                   1.134376  0.622092  0.794733   \n",
      "3                   1.140181                   1.214194  0.196542  0.276019   \n",
      "4                   1.150258                   1.313623  0.466943  0.761256   \n",
      "\n",
      "   hull_rectangle_ratio  \n",
      "0              0.722495  \n",
      "1              1.000000  \n",
      "2              0.782769  \n",
      "3              0.712062  \n",
      "4              0.613385  \n"
     ]
    }
   ],
   "source": [
    "from  ki_verfahren import CustomKNN\n",
    "labels_c = my_data.iloc[:,-1]\n",
    "print(labels_c.head())\n",
    "\n",
    "datas_c = my_data.iloc[:,:-1]\n",
    "print(datas_c.head())\n",
    "\n",
    "KNN_Processor = CustomKNN(args[\"neighbors\"])"
   ],
   "metadata": {
    "collapsed": false,
    "pycharm": {
     "name": "#%%\n"
    }
   }
  },
  {
   "cell_type": "code",
   "execution_count": 9,
   "outputs": [
    {
     "name": "stdout",
     "output_type": "stream",
     "text": [
      "     contour_points  amount_contours     rect_area  hull_area  \\\n",
      "668             781                4  47736.000000    24691.5   \n",
      "663            1063               12  18939.667355    17823.5   \n",
      "187            2093               34  65025.000000    65025.0   \n",
      "148            1569                1  65025.000000    65025.0   \n",
      "192            1002                2  65024.984436    64733.0   \n",
      "\n",
      "     approximation_area  contour_perimeters  corners  harris_corners  \\\n",
      "668             24306.0          819.521859       45             741   \n",
      "663             14270.0         1281.290535       66             413   \n",
      "187             39110.0         2253.300639      100             983   \n",
      "148             56183.5         1615.806130       39             176   \n",
      "192             64711.0         1009.455844       41             221   \n",
      "\n",
      "     ratio_wide_length  contour_length_area_ratio  \\\n",
      "668           0.977376                   0.033769   \n",
      "663           2.543222                   0.089899   \n",
      "187           1.000000                   0.057874   \n",
      "148           1.000000                   0.028733   \n",
      "192           1.000000                   0.015600   \n",
      "\n",
      "     contour_length_rect_area_ratio  contour_length_hull_area_ratio  \\\n",
      "668                        0.017168                        0.033190   \n",
      "663                        0.067651                        0.071888   \n",
      "187                        0.034653                        0.034653   \n",
      "148                        0.024849                        0.024849   \n",
      "192                        0.015524                        0.015594   \n",
      "\n",
      "     contour_rect_length_ratio  contour_hull_length_ratio    extent  solidity  \\\n",
      "668                   0.937668                   1.096296  0.508390  0.982869   \n",
      "663                   2.095199                   2.230769  0.752521  0.799647   \n",
      "187                   2.209118                   2.209118  0.598762  0.598762   \n",
      "148                   1.584124                   1.584124  0.864814  0.864814   \n",
      "192                   0.989663                   1.003485  0.995141  0.999629   \n",
      "\n",
      "     hull_rectangle_ratio  \n",
      "668              0.517251  \n",
      "663              0.941067  \n",
      "187              1.000000  \n",
      "148              1.000000  \n",
      "192              0.995510  \n",
      "668    1\n",
      "663    1\n",
      "187    0\n",
      "148    0\n",
      "192    0\n",
      "Name: labels, dtype: int64\n"
     ]
    }
   ],
   "source": [
    "(trainD, testD, trainL, testL) = train_test_split(datas_c, labels_c, test_size=0.20)\n",
    "print(trainD.head())\n",
    "\n",
    "print(trainL.head())"
   ],
   "metadata": {
    "collapsed": false,
    "pycharm": {
     "name": "#%%\n"
    }
   }
  },
  {
   "cell_type": "code",
   "execution_count": 10,
   "outputs": [],
   "source": [
    "KNN_Processor.fit(trainD, trainL)\n",
    "prediction = KNN_Processor.predict(testD)\n",
    "print(prediction)"
   ],
   "metadata": {
    "collapsed": false,
    "pycharm": {
     "name": "#%%\n"
    }
   }
  },
  {
   "cell_type": "code",
   "execution_count": null,
   "outputs": [],
   "source": [],
   "metadata": {
    "collapsed": false,
    "pycharm": {
     "name": "#%%\n"
    }
   }
  }
 ],
 "metadata": {
  "kernelspec": {
   "name": "pycharm-f37e0920",
   "language": "python",
   "display_name": "PyCharm (VDK_KammBrueste)"
  },
  "language_info": {
   "codemirror_mode": {
    "name": "ipython",
    "version": 2
   },
   "file_extension": ".py",
   "mimetype": "text/x-python",
   "name": "python",
   "nbconvert_exporter": "python",
   "pygments_lexer": "ipython2",
   "version": "2.7.6"
  }
 },
 "nbformat": 4,
 "nbformat_minor": 0
}